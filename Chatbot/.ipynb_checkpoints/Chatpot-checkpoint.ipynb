{
 "cells": [
  {
   "cell_type": "code",
   "execution_count": 1,
   "id": "a92428e2-e7c0-4d70-b1ee-86920e6bfa11",
   "metadata": {},
   "outputs": [
    {
     "name": "stdout",
     "output_type": "stream",
     "text": [
      "Collecting pyttsx3\n",
      "  Downloading pyttsx3-2.90-py3-none-any.whl (39 kB)\n",
      "Requirement already satisfied: comtypes in c:\\users\\user\\anaconda3\\lib\\site-packages (from pyttsx3) (1.1.10)\n",
      "Requirement already satisfied: pywin32 in c:\\users\\user\\anaconda3\\lib\\site-packages (from pyttsx3) (302)\n",
      "Collecting pypiwin32\n",
      "  Downloading pypiwin32-223-py3-none-any.whl (1.7 kB)\n",
      "Installing collected packages: pypiwin32, pyttsx3\n",
      "Successfully installed pypiwin32-223 pyttsx3-2.90\n"
     ]
    }
   ],
   "source": [
    "# !pip install pyttsx3"
   ]
  },
  {
   "cell_type": "markdown",
   "id": "24c4327d-3ecb-4906-9ee2-622e597ba1e2",
   "metadata": {},
   "source": [
    "# Text to Speech"
   ]
  },
  {
   "cell_type": "code",
   "execution_count": 1,
   "id": "325cbcf7-2fbd-46d5-a678-0357f3a06017",
   "metadata": {},
   "outputs": [],
   "source": [
    "import pyttsx3\n",
    "import pandas as pd\n",
    "import webbrowser as wb"
   ]
  },
  {
   "cell_type": "code",
   "execution_count": 2,
   "id": "011d5a04-5615-40bf-870f-d1f58ad63b95",
   "metadata": {},
   "outputs": [],
   "source": [
    "ssynth=pyttsx3.init()            #speech synthesis"
   ]
  },
  {
   "cell_type": "code",
   "execution_count": 3,
   "id": "cb58435e-7dee-4ffd-81ab-00b8394dad8e",
   "metadata": {},
   "outputs": [],
   "source": [
    "ssynth.say(\"Hello ! Hoe are you???\") #To say\n",
    "ssynth.runAndWait()"
   ]
  },
  {
   "cell_type": "code",
   "execution_count": 4,
   "id": "4eabde47-ce38-48ec-ac4b-bb8c1694fc6e",
   "metadata": {},
   "outputs": [],
   "source": [
    "voices=ssynth.getProperty('voices')"
   ]
  },
  {
   "cell_type": "code",
   "execution_count": 5,
   "id": "f6e2a532-65f2-452a-8547-19f367efedfa",
   "metadata": {},
   "outputs": [
    {
     "data": {
      "text/plain": [
       "[<pyttsx3.voice.Voice at 0xc231f15730>,\n",
       " <pyttsx3.voice.Voice at 0xc2320964c0>,\n",
       " <pyttsx3.voice.Voice at 0xc22f20cc10>]"
      ]
     },
     "execution_count": 5,
     "metadata": {},
     "output_type": "execute_result"
    }
   ],
   "source": [
    "voices"
   ]
  },
  {
   "cell_type": "code",
   "execution_count": 6,
   "id": "ab8be5ce-9b7f-47c6-80c7-bec924072f1e",
   "metadata": {},
   "outputs": [],
   "source": [
    "ssynth.setProperty('volume',70)\n",
    "ssynth.setProperty('rate',90)\n",
    "ssynth.setProperty('voice',voices[2].id)"
   ]
  },
  {
   "cell_type": "code",
   "execution_count": 7,
   "id": "80d3e7c4-ea23-458b-8972-dcd379d59715",
   "metadata": {},
   "outputs": [],
   "source": [
    "ssynth.say(\"Hello! How are you???\") \n",
    "ssynth.runAndWait()"
   ]
  },
  {
   "cell_type": "code",
   "execution_count": 8,
   "id": "1cca5ce6-064d-48f3-9533-fd7ba8cbf5cc",
   "metadata": {},
   "outputs": [],
   "source": [
    "a=90"
   ]
  },
  {
   "cell_type": "code",
   "execution_count": 9,
   "id": "7d15e7ce-c738-4ea1-8a29-0f0125b84a82",
   "metadata": {},
   "outputs": [],
   "source": [
    "ssynth.say(a) \n",
    "ssynth.runAndWait()"
   ]
  },
  {
   "cell_type": "code",
   "execution_count": null,
   "id": "f8709e6d-48da-40ed-911d-96ddd28f375b",
   "metadata": {},
   "outputs": [],
   "source": [
    "ssynth.say(pd.read_csv('o.txt')) \n",
    "ssynth.runAndWait()"
   ]
  },
  {
   "cell_type": "markdown",
   "id": "b8e427cc-da3b-40f8-b8ae-26dd03c24553",
   "metadata": {},
   "source": [
    "# Speech to Text"
   ]
  },
  {
   "cell_type": "code",
   "execution_count": 9,
   "id": "797cf170-8516-493d-b851-2932bb6ec10b",
   "metadata": {},
   "outputs": [],
   "source": [
    "# !pip install speechrecognition"
   ]
  },
  {
   "cell_type": "code",
   "execution_count": 10,
   "id": "27e5c0fd-11be-438e-8e44-04b6f2c36e25",
   "metadata": {},
   "outputs": [],
   "source": [
    "import speech_recognition as sr"
   ]
  },
  {
   "cell_type": "code",
   "execution_count": 11,
   "id": "bcc24df7-0746-49d5-8083-3d63ed748890",
   "metadata": {},
   "outputs": [],
   "source": [
    "r=sr.Recognizer()"
   ]
  },
  {
   "cell_type": "code",
   "execution_count": 13,
   "id": "d4420404-c4f8-4963-9bf4-c3d06c8a62af",
   "metadata": {},
   "outputs": [],
   "source": [
    "# !pip install pipwin"
   ]
  },
  {
   "cell_type": "code",
   "execution_count": 14,
   "id": "b91dfabb-4d81-420a-a357-80f2903dd1f9",
   "metadata": {},
   "outputs": [],
   "source": [
    "# !pipwin install pyaudio"
   ]
  },
  {
   "cell_type": "code",
   "execution_count": 15,
   "id": "1a9d8132-8489-4c5f-a585-669f20faaae7",
   "metadata": {},
   "outputs": [
    {
     "data": {
      "text/plain": [
       "['Microsoft Sound Mapper - Input',\n",
       " 'Internal Microphone (Conexant S',\n",
       " 'Microsoft Sound Mapper - Output',\n",
       " 'Speakers (Conexant SmartAudio H',\n",
       " 'Primary Sound Capture Driver',\n",
       " 'Internal Microphone (Conexant SmartAudio HD)',\n",
       " 'Primary Sound Driver',\n",
       " 'Speakers (Conexant SmartAudio HD)',\n",
       " 'Speakers (Conexant SmartAudio HD)',\n",
       " 'Internal Microphone (Conexant SmartAudio HD)',\n",
       " 'Speakers (Conexant HD Audio output)',\n",
       " 'Stereo Mix (Conexant HD Stereo Mix)',\n",
       " 'Microphone (Conexant HD Audio capture)']"
      ]
     },
     "execution_count": 15,
     "metadata": {},
     "output_type": "execute_result"
    }
   ],
   "source": [
    "sr.Microphone.list_microphone_names()"
   ]
  },
  {
   "cell_type": "code",
   "execution_count": 61,
   "id": "09ea89de-80c7-439b-bc83-01c3c8b91cf6",
   "metadata": {},
   "outputs": [],
   "source": [
    "with sr.Microphone() as source:\n",
    "    r.adjust_for_ambient_noise(source)\n",
    "    print(\"say>>Kuch bolo----\")\n",
    "    audio=r.listen(source)\n",
    "    text=r.recognize_google(audio)\n",
    "    print(\"Ye bola apne>>\",text)"
   ]
  },
  {
   "cell_type": "markdown",
   "id": "bacb236a-e390-428f-878a-6cef879f50c0",
   "metadata": {},
   "source": [
    "# ChatBot-Rule Based"
   ]
  },
  {
   "cell_type": "code",
   "execution_count": 16,
   "id": "e497ad5e-4d27-470e-89d3-f0fe706233f7",
   "metadata": {},
   "outputs": [],
   "source": [
    "from nltk.chat.util import Chat"
   ]
  },
  {
   "cell_type": "code",
   "execution_count": 18,
   "id": "2b918714-1603-478c-bc2a-ef83610215bf",
   "metadata": {},
   "outputs": [],
   "source": [
    "qa_pairs=[\n",
    "         ['(hi|Hi|HI|hey|Hey|Hello|hello|Namaste)',['Hello! Its really good to hear from you.\\nI hope you and your loved ones are safe and healthy!!']],\n",
    "         ['(.*)name(.*)',['My name is Helpy!']],\n",
    "         ['(.*)How are you(.*)',[\"Thanks for asking,I'm  doing ok.\"]],\n",
    "         ['What is your Favourite food',['I like pizza!! ']],\n",
    "         ['What is your Favourite color',['Golden Yellow']],\n",
    "         ['Who is your Favourite Cricketer',['I like Virat Kohli.']],\n",
    "         ['What is your contact number',['I am not having any contact number right now but, might be in future.']],\n",
    "         ['(.*)(awesome|nice|excellent|brilliant)(.*)',['You too']],\n",
    "         [\"(.*)What's up(.*)\",[\"Not too much \\nHow's your day?\"]],\n",
    "        ['(.*)(.*)',[\"Sorry, I don't understand\"]]\n",
    "    # ['(.*)ipod(.*)',[f\"a\"]]    \n",
    "]    "
   ]
  },
  {
   "cell_type": "code",
   "execution_count": 19,
   "id": "1599f09e-92ff-49b9-86ac-2421523f27ec",
   "metadata": {},
   "outputs": [],
   "source": [
    "cb=Chat(qa_pairs)"
   ]
  },
  {
   "cell_type": "code",
   "execution_count": 20,
   "id": "bc892127-f43a-4dfc-9f1a-2017d8e662cb",
   "metadata": {},
   "outputs": [
    {
     "name": "stdout",
     "output_type": "stream",
     "text": [
      "Welcome!!\n",
      "Thanku for Conversing with the Smiles Bot!!\n"
     ]
    }
   ],
   "source": [
    "try:\n",
    "    print('Welcome!!')\n",
    "    nm=input('Enter your name:')\n",
    "    nm=nm.capitalize()\n",
    "    print(f'Hey!{nm}\\nHow can I help you??')\n",
    "    cb.converse()\n",
    "except KeyboardInterrupt as err:\n",
    "    print('Thanku for Conversing with the Smiles Bot!!')"
   ]
  },
  {
   "cell_type": "code",
   "execution_count": 21,
   "id": "436d3660-c554-4621-af4d-b51b5da34a4f",
   "metadata": {},
   "outputs": [
    {
     "data": {
      "text/plain": [
       "'My name is Helpy!'"
      ]
     },
     "execution_count": 21,
     "metadata": {},
     "output_type": "execute_result"
    }
   ],
   "source": [
    "cb.respond('name')"
   ]
  },
  {
   "cell_type": "markdown",
   "id": "b7a2ace0-aa9b-41af-a3eb-06cb59f29665",
   "metadata": {},
   "source": [
    "# To open a new site"
   ]
  },
  {
   "cell_type": "code",
   "execution_count": 22,
   "id": "194b8e4a-d388-456b-af6f-1df2e2caa18a",
   "metadata": {},
   "outputs": [
    {
     "data": {
      "text/plain": [
       "True"
      ]
     },
     "execution_count": 22,
     "metadata": {},
     "output_type": "execute_result"
    }
   ],
   "source": [
    "wb.open_new_tab('https://google.com')"
   ]
  }
 ],
 "metadata": {
  "kernelspec": {
   "display_name": "Python 3 (ipykernel)",
   "language": "python",
   "name": "python3"
  },
  "language_info": {
   "codemirror_mode": {
    "name": "ipython",
    "version": 3
   },
   "file_extension": ".py",
   "mimetype": "text/x-python",
   "name": "python",
   "nbconvert_exporter": "python",
   "pygments_lexer": "ipython3",
   "version": "3.9.12"
  }
 },
 "nbformat": 4,
 "nbformat_minor": 5
}
