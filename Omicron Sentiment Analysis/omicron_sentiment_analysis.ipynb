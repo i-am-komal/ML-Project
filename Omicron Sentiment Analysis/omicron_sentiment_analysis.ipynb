{
 "cells": [
  {
   "cell_type": "markdown",
   "id": "5a0e7cfa-1d8b-4ac3-8095-9b0fbda4935d",
   "metadata": {
    "id": "5a0e7cfa-1d8b-4ac3-8095-9b0fbda4935d",
    "tags": []
   },
   "source": [
    "# ---------------Omicron Sentiment Analysis-------------------"
   ]
  },
  {
   "cell_type": "markdown",
   "id": "3d896479-d86f-4093-a7e3-39945dc9e786",
   "metadata": {
    "id": "3d896479-d86f-4093-a7e3-39945dc9e786",
    "tags": []
   },
   "source": [
    "# Importing Libraries"
   ]
  },
  {
   "cell_type": "code",
   "execution_count": null,
   "id": "e741ccc7-416d-4a75-9887-9395b490e94c",
   "metadata": {
    "id": "e741ccc7-416d-4a75-9887-9395b490e94c"
   },
   "outputs": [],
   "source": [
    "import pandas as pd\n",
    "import numpy as np\n",
    "\n",
    "import matplotlib.pyplot as plt\n",
    "import seaborn as sns\n",
    "import plotly.express as px\n",
    "\n",
    "import  warnings\n",
    "warnings.filterwarnings(action='ignore')\n",
    "\n",
    "import nltk\n",
    "import re\n",
    "from nltk.corpus import stopwords as sw\n",
    "from nltk.stem import WordNetLemmatizer\n",
    "from sklearn.feature_extraction.text import CountVectorizer\n",
    "\n",
    "from sklearn.naive_bayes import GaussianNB, MultinomialNB\n",
    "from sklearn.metrics import confusion_matrix , classification_report\n",
    "from sklearn.metrics import accuracy_score"
   ]
  },
  {
   "cell_type": "markdown",
   "id": "33549f4e-54e9-47da-84c1-a6acf0505581",
   "metadata": {
    "id": "33549f4e-54e9-47da-84c1-a6acf0505581",
    "tags": []
   },
   "source": [
    "# Loading Dataset"
   ]
  },
  {
   "cell_type": "code",
   "execution_count": null,
   "id": "dbf00d18-11c0-4523-8063-74189e6d0afe",
   "metadata": {
    "colab": {
     "base_uri": "https://localhost:8080/",
     "height": 531
    },
    "id": "dbf00d18-11c0-4523-8063-74189e6d0afe",
    "outputId": "e36ac505-f4a8-4f37-9d8d-c5cabd464a0c"
   },
   "outputs": [
    {
     "data": {
      "text/html": [
       "\n",
       "  <div id=\"df-044e2b8e-e86f-4fb4-984d-da97dc96b9c2\">\n",
       "    <div class=\"colab-df-container\">\n",
       "      <div>\n",
       "<style scoped>\n",
       "    .dataframe tbody tr th:only-of-type {\n",
       "        vertical-align: middle;\n",
       "    }\n",
       "\n",
       "    .dataframe tbody tr th {\n",
       "        vertical-align: top;\n",
       "    }\n",
       "\n",
       "    .dataframe thead th {\n",
       "        text-align: right;\n",
       "    }\n",
       "</style>\n",
       "<table border=\"1\" class=\"dataframe\">\n",
       "  <thead>\n",
       "    <tr style=\"text-align: right;\">\n",
       "      <th></th>\n",
       "      <th>id</th>\n",
       "      <th>user_name</th>\n",
       "      <th>user_location</th>\n",
       "      <th>user_description</th>\n",
       "      <th>user_created</th>\n",
       "      <th>user_followers</th>\n",
       "      <th>user_friends</th>\n",
       "      <th>user_favourites</th>\n",
       "      <th>user_verified</th>\n",
       "      <th>date</th>\n",
       "      <th>text</th>\n",
       "      <th>hashtags</th>\n",
       "      <th>source</th>\n",
       "      <th>retweets</th>\n",
       "      <th>favorites</th>\n",
       "      <th>is_retweet</th>\n",
       "      <th>Sentiment</th>\n",
       "    </tr>\n",
       "  </thead>\n",
       "  <tbody>\n",
       "    <tr>\n",
       "      <th>0</th>\n",
       "      <td>1491840066506743820</td>\n",
       "      <td>Nathan Joyner</td>\n",
       "      <td>Los Angeles, CA</td>\n",
       "      <td>Global Venture Captial and Private Equity/Busi...</td>\n",
       "      <td>2015-05-18 20:52:29</td>\n",
       "      <td>49</td>\n",
       "      <td>11</td>\n",
       "      <td>803</td>\n",
       "      <td>False</td>\n",
       "      <td>2022-02-10 18:22:43</td>\n",
       "      <td>Daily US Confirmed Covid Cases by County For M...</td>\n",
       "      <td>NaN</td>\n",
       "      <td>smcapplication</td>\n",
       "      <td>0</td>\n",
       "      <td>0</td>\n",
       "      <td>False</td>\n",
       "      <td>Positive</td>\n",
       "    </tr>\n",
       "    <tr>\n",
       "      <th>1</th>\n",
       "      <td>1491839660674490371</td>\n",
       "      <td>Gatherer Thompson</td>\n",
       "      <td>Corporate</td>\n",
       "      <td>I'm with the people who are with everyone. A s...</td>\n",
       "      <td>2009-05-10 23:01:22</td>\n",
       "      <td>639</td>\n",
       "      <td>1931</td>\n",
       "      <td>46369</td>\n",
       "      <td>False</td>\n",
       "      <td>2022-02-10 18:21:06</td>\n",
       "      <td>@Yascha_Mounk #CDC says number of fully #vacci...</td>\n",
       "      <td>['CDC', 'vaccinated', 'Omicron', 'hospital']</td>\n",
       "      <td>Twitter Web App</td>\n",
       "      <td>0</td>\n",
       "      <td>0</td>\n",
       "      <td>False</td>\n",
       "      <td>Positive</td>\n",
       "    </tr>\n",
       "    <tr>\n",
       "      <th>2</th>\n",
       "      <td>1491839607368867842</td>\n",
       "      <td>Nathan Joyner</td>\n",
       "      <td>Los Angeles, CA</td>\n",
       "      <td>Global Venture Captial and Private Equity/Busi...</td>\n",
       "      <td>2015-05-18 20:52:29</td>\n",
       "      <td>49</td>\n",
       "      <td>11</td>\n",
       "      <td>803</td>\n",
       "      <td>False</td>\n",
       "      <td>2022-02-10 18:20:54</td>\n",
       "      <td>Daily US Confirmed Covid Cases by County For L...</td>\n",
       "      <td>NaN</td>\n",
       "      <td>smcapplication</td>\n",
       "      <td>0</td>\n",
       "      <td>0</td>\n",
       "      <td>False</td>\n",
       "      <td>Positive</td>\n",
       "    </tr>\n",
       "    <tr>\n",
       "      <th>3</th>\n",
       "      <td>1491839207169351689</td>\n",
       "      <td>Nathan Joyner</td>\n",
       "      <td>Los Angeles, CA</td>\n",
       "      <td>Global Venture Captial and Private Equity/Busi...</td>\n",
       "      <td>2015-05-18 20:52:29</td>\n",
       "      <td>49</td>\n",
       "      <td>11</td>\n",
       "      <td>803</td>\n",
       "      <td>False</td>\n",
       "      <td>2022-02-10 18:19:18</td>\n",
       "      <td>Daily US Confirmed Covid Cases by County For L...</td>\n",
       "      <td>NaN</td>\n",
       "      <td>smcapplication</td>\n",
       "      <td>2</td>\n",
       "      <td>1</td>\n",
       "      <td>False</td>\n",
       "      <td>Positive</td>\n",
       "    </tr>\n",
       "    <tr>\n",
       "      <th>4</th>\n",
       "      <td>1491839165608177667</td>\n",
       "      <td>Brownyard Group</td>\n",
       "      <td>Bay Shore, NY</td>\n",
       "      <td>We offer liability coverage for the Security G...</td>\n",
       "      <td>2009-12-08 16:41:53</td>\n",
       "      <td>375</td>\n",
       "      <td>284</td>\n",
       "      <td>61</td>\n",
       "      <td>False</td>\n",
       "      <td>2022-02-10 18:19:08</td>\n",
       "      <td>With the #Beijing2022 #WinterOlympics already ...</td>\n",
       "      <td>['Beijing2022', 'WinterOlympics', 'olympians',...</td>\n",
       "      <td>Agorapulse app</td>\n",
       "      <td>0</td>\n",
       "      <td>0</td>\n",
       "      <td>False</td>\n",
       "      <td>Positive</td>\n",
       "    </tr>\n",
       "  </tbody>\n",
       "</table>\n",
       "</div>\n",
       "      <button class=\"colab-df-convert\" onclick=\"convertToInteractive('df-044e2b8e-e86f-4fb4-984d-da97dc96b9c2')\"\n",
       "              title=\"Convert this dataframe to an interactive table.\"\n",
       "              style=\"display:none;\">\n",
       "        \n",
       "  <svg xmlns=\"http://www.w3.org/2000/svg\" height=\"24px\"viewBox=\"0 0 24 24\"\n",
       "       width=\"24px\">\n",
       "    <path d=\"M0 0h24v24H0V0z\" fill=\"none\"/>\n",
       "    <path d=\"M18.56 5.44l.94 2.06.94-2.06 2.06-.94-2.06-.94-.94-2.06-.94 2.06-2.06.94zm-11 1L8.5 8.5l.94-2.06 2.06-.94-2.06-.94L8.5 2.5l-.94 2.06-2.06.94zm10 10l.94 2.06.94-2.06 2.06-.94-2.06-.94-.94-2.06-.94 2.06-2.06.94z\"/><path d=\"M17.41 7.96l-1.37-1.37c-.4-.4-.92-.59-1.43-.59-.52 0-1.04.2-1.43.59L10.3 9.45l-7.72 7.72c-.78.78-.78 2.05 0 2.83L4 21.41c.39.39.9.59 1.41.59.51 0 1.02-.2 1.41-.59l7.78-7.78 2.81-2.81c.8-.78.8-2.07 0-2.86zM5.41 20L4 18.59l7.72-7.72 1.47 1.35L5.41 20z\"/>\n",
       "  </svg>\n",
       "      </button>\n",
       "      \n",
       "  <style>\n",
       "    .colab-df-container {\n",
       "      display:flex;\n",
       "      flex-wrap:wrap;\n",
       "      gap: 12px;\n",
       "    }\n",
       "\n",
       "    .colab-df-convert {\n",
       "      background-color: #E8F0FE;\n",
       "      border: none;\n",
       "      border-radius: 50%;\n",
       "      cursor: pointer;\n",
       "      display: none;\n",
       "      fill: #1967D2;\n",
       "      height: 32px;\n",
       "      padding: 0 0 0 0;\n",
       "      width: 32px;\n",
       "    }\n",
       "\n",
       "    .colab-df-convert:hover {\n",
       "      background-color: #E2EBFA;\n",
       "      box-shadow: 0px 1px 2px rgba(60, 64, 67, 0.3), 0px 1px 3px 1px rgba(60, 64, 67, 0.15);\n",
       "      fill: #174EA6;\n",
       "    }\n",
       "\n",
       "    [theme=dark] .colab-df-convert {\n",
       "      background-color: #3B4455;\n",
       "      fill: #D2E3FC;\n",
       "    }\n",
       "\n",
       "    [theme=dark] .colab-df-convert:hover {\n",
       "      background-color: #434B5C;\n",
       "      box-shadow: 0px 1px 3px 1px rgba(0, 0, 0, 0.15);\n",
       "      filter: drop-shadow(0px 1px 2px rgba(0, 0, 0, 0.3));\n",
       "      fill: #FFFFFF;\n",
       "    }\n",
       "  </style>\n",
       "\n",
       "      <script>\n",
       "        const buttonEl =\n",
       "          document.querySelector('#df-044e2b8e-e86f-4fb4-984d-da97dc96b9c2 button.colab-df-convert');\n",
       "        buttonEl.style.display =\n",
       "          google.colab.kernel.accessAllowed ? 'block' : 'none';\n",
       "\n",
       "        async function convertToInteractive(key) {\n",
       "          const element = document.querySelector('#df-044e2b8e-e86f-4fb4-984d-da97dc96b9c2');\n",
       "          const dataTable =\n",
       "            await google.colab.kernel.invokeFunction('convertToInteractive',\n",
       "                                                     [key], {});\n",
       "          if (!dataTable) return;\n",
       "\n",
       "          const docLinkHtml = 'Like what you see? Visit the ' +\n",
       "            '<a target=\"_blank\" href=https://colab.research.google.com/notebooks/data_table.ipynb>data table notebook</a>'\n",
       "            + ' to learn more about interactive tables.';\n",
       "          element.innerHTML = '';\n",
       "          dataTable['output_type'] = 'display_data';\n",
       "          await google.colab.output.renderOutput(dataTable, element);\n",
       "          const docLink = document.createElement('div');\n",
       "          docLink.innerHTML = docLinkHtml;\n",
       "          element.appendChild(docLink);\n",
       "        }\n",
       "      </script>\n",
       "    </div>\n",
       "  </div>\n",
       "  "
      ],
      "text/plain": [
       "                    id          user_name    user_location  \\\n",
       "0  1491840066506743820      Nathan Joyner  Los Angeles, CA   \n",
       "1  1491839660674490371  Gatherer Thompson        Corporate   \n",
       "2  1491839607368867842      Nathan Joyner  Los Angeles, CA   \n",
       "3  1491839207169351689      Nathan Joyner  Los Angeles, CA   \n",
       "4  1491839165608177667    Brownyard Group    Bay Shore, NY   \n",
       "\n",
       "                                    user_description         user_created  \\\n",
       "0  Global Venture Captial and Private Equity/Busi...  2015-05-18 20:52:29   \n",
       "1  I'm with the people who are with everyone. A s...  2009-05-10 23:01:22   \n",
       "2  Global Venture Captial and Private Equity/Busi...  2015-05-18 20:52:29   \n",
       "3  Global Venture Captial and Private Equity/Busi...  2015-05-18 20:52:29   \n",
       "4  We offer liability coverage for the Security G...  2009-12-08 16:41:53   \n",
       "\n",
       "   user_followers  user_friends  user_favourites  user_verified  \\\n",
       "0              49            11              803          False   \n",
       "1             639          1931            46369          False   \n",
       "2              49            11              803          False   \n",
       "3              49            11              803          False   \n",
       "4             375           284               61          False   \n",
       "\n",
       "                  date                                               text  \\\n",
       "0  2022-02-10 18:22:43  Daily US Confirmed Covid Cases by County For M...   \n",
       "1  2022-02-10 18:21:06  @Yascha_Mounk #CDC says number of fully #vacci...   \n",
       "2  2022-02-10 18:20:54  Daily US Confirmed Covid Cases by County For L...   \n",
       "3  2022-02-10 18:19:18  Daily US Confirmed Covid Cases by County For L...   \n",
       "4  2022-02-10 18:19:08  With the #Beijing2022 #WinterOlympics already ...   \n",
       "\n",
       "                                            hashtags           source  \\\n",
       "0                                                NaN   smcapplication   \n",
       "1       ['CDC', 'vaccinated', 'Omicron', 'hospital']  Twitter Web App   \n",
       "2                                                NaN   smcapplication   \n",
       "3                                                NaN   smcapplication   \n",
       "4  ['Beijing2022', 'WinterOlympics', 'olympians',...   Agorapulse app   \n",
       "\n",
       "   retweets  favorites  is_retweet Sentiment  \n",
       "0         0          0       False  Positive  \n",
       "1         0          0       False  Positive  \n",
       "2         0          0       False  Positive  \n",
       "3         2          1       False  Positive  \n",
       "4         0          0       False  Positive  "
      ]
     },
     "execution_count": 3,
     "metadata": {},
     "output_type": "execute_result"
    }
   ],
   "source": [
    "df=pd.read_csv('omicron_sentiment_data.csv')\n",
    "df.head()"
   ]
  },
  {
   "cell_type": "markdown",
   "id": "b7537962-7a96-4b8f-8778-4b31d2e47538",
   "metadata": {
    "id": "b7537962-7a96-4b8f-8778-4b31d2e47538",
    "tags": []
   },
   "source": [
    "# Performing Basic Operations"
   ]
  },
  {
   "cell_type": "code",
   "execution_count": null,
   "id": "750a96a1-d9d4-4fa5-a509-2d50a8f30931",
   "metadata": {
    "colab": {
     "base_uri": "https://localhost:8080/",
     "height": 756
    },
    "id": "750a96a1-d9d4-4fa5-a509-2d50a8f30931",
    "outputId": "296fc7d2-7f01-4384-d959-2c3322dccfb7"
   },
   "outputs": [
    {
     "name": "stdout",
     "output_type": "stream",
     "text": [
      "Last 5 rows are:\n"
     ]
    },
    {
     "data": {
      "text/html": [
       "\n",
       "  <div id=\"df-7b91df73-1239-43a0-b97e-774ad97d7f29\">\n",
       "    <div class=\"colab-df-container\">\n",
       "      <div>\n",
       "<style scoped>\n",
       "    .dataframe tbody tr th:only-of-type {\n",
       "        vertical-align: middle;\n",
       "    }\n",
       "\n",
       "    .dataframe tbody tr th {\n",
       "        vertical-align: top;\n",
       "    }\n",
       "\n",
       "    .dataframe thead th {\n",
       "        text-align: right;\n",
       "    }\n",
       "</style>\n",
       "<table border=\"1\" class=\"dataframe\">\n",
       "  <thead>\n",
       "    <tr style=\"text-align: right;\">\n",
       "      <th></th>\n",
       "      <th>id</th>\n",
       "      <th>user_name</th>\n",
       "      <th>user_location</th>\n",
       "      <th>user_description</th>\n",
       "      <th>user_created</th>\n",
       "      <th>user_followers</th>\n",
       "      <th>user_friends</th>\n",
       "      <th>user_favourites</th>\n",
       "      <th>user_verified</th>\n",
       "      <th>date</th>\n",
       "      <th>text</th>\n",
       "      <th>hashtags</th>\n",
       "      <th>source</th>\n",
       "      <th>retweets</th>\n",
       "      <th>favorites</th>\n",
       "      <th>is_retweet</th>\n",
       "      <th>Sentiment</th>\n",
       "    </tr>\n",
       "  </thead>\n",
       "  <tbody>\n",
       "    <tr>\n",
       "      <th>9995</th>\n",
       "      <td>1494341955710439436</td>\n",
       "      <td>Ann Marie Pincivero</td>\n",
       "      <td>Canada</td>\n",
       "      <td>LOVE my girl ❤️, writing✍️, art🎨, beauty🌺, mus...</td>\n",
       "      <td>2009-03-27 08:56:15</td>\n",
       "      <td>9543</td>\n",
       "      <td>9038</td>\n",
       "      <td>2</td>\n",
       "      <td>False</td>\n",
       "      <td>2022-02-17 16:04:20</td>\n",
       "      <td>Being called \"Lady of the Mask\" by a troll I b...</td>\n",
       "      <td>NaN</td>\n",
       "      <td>Twitter Web App</td>\n",
       "      <td>0</td>\n",
       "      <td>0</td>\n",
       "      <td>False</td>\n",
       "      <td>Positive</td>\n",
       "    </tr>\n",
       "    <tr>\n",
       "      <th>9996</th>\n",
       "      <td>1494341816824451087</td>\n",
       "      <td>Nathan Joyner</td>\n",
       "      <td>Los Angeles, CA</td>\n",
       "      <td>Global Venture Captial and Private Equity/Busi...</td>\n",
       "      <td>2015-05-18 20:52:29</td>\n",
       "      <td>56</td>\n",
       "      <td>11</td>\n",
       "      <td>818</td>\n",
       "      <td>False</td>\n",
       "      <td>2022-02-17 16:03:47</td>\n",
       "      <td>7 Day Covid Deaths per 1K Population by County...</td>\n",
       "      <td>NaN</td>\n",
       "      <td>smcapplication</td>\n",
       "      <td>1</td>\n",
       "      <td>1</td>\n",
       "      <td>False</td>\n",
       "      <td>Positive</td>\n",
       "    </tr>\n",
       "    <tr>\n",
       "      <th>9997</th>\n",
       "      <td>1494341743117942786</td>\n",
       "      <td>ColoradoSPH</td>\n",
       "      <td>Colorado</td>\n",
       "      <td>The accredited Colorado School of Public Healt...</td>\n",
       "      <td>2009-06-05 15:36:53</td>\n",
       "      <td>7307</td>\n",
       "      <td>1305</td>\n",
       "      <td>1941</td>\n",
       "      <td>False</td>\n",
       "      <td>2022-02-17 16:03:29</td>\n",
       "      <td>More than 12,000 people in CO have died of #CO...</td>\n",
       "      <td>['COVID19']</td>\n",
       "      <td>Hootsuite Inc.</td>\n",
       "      <td>0</td>\n",
       "      <td>1</td>\n",
       "      <td>False</td>\n",
       "      <td>Negative</td>\n",
       "    </tr>\n",
       "    <tr>\n",
       "      <th>9998</th>\n",
       "      <td>1494341682082557954</td>\n",
       "      <td>Liz Parrish MBA</td>\n",
       "      <td>NaN</td>\n",
       "      <td>NaN</td>\n",
       "      <td>2012-08-29 18:39:35</td>\n",
       "      <td>4925</td>\n",
       "      <td>93</td>\n",
       "      <td>708</td>\n",
       "      <td>False</td>\n",
       "      <td>2022-02-17 16:03:15</td>\n",
       "      <td>“The research, published in the journal Nature...</td>\n",
       "      <td>NaN</td>\n",
       "      <td>Hootsuite Inc.</td>\n",
       "      <td>1</td>\n",
       "      <td>9</td>\n",
       "      <td>False</td>\n",
       "      <td>Positive</td>\n",
       "    </tr>\n",
       "    <tr>\n",
       "      <th>9999</th>\n",
       "      <td>1494341295006830594</td>\n",
       "      <td>Nathan Joyner</td>\n",
       "      <td>Los Angeles, CA</td>\n",
       "      <td>Global Venture Captial and Private Equity/Busi...</td>\n",
       "      <td>2015-05-18 20:52:29</td>\n",
       "      <td>56</td>\n",
       "      <td>11</td>\n",
       "      <td>818</td>\n",
       "      <td>False</td>\n",
       "      <td>2022-02-17 16:01:42</td>\n",
       "      <td>7 Day Covid Deaths per 1K Population by County...</td>\n",
       "      <td>NaN</td>\n",
       "      <td>smcapplication</td>\n",
       "      <td>1</td>\n",
       "      <td>1</td>\n",
       "      <td>False</td>\n",
       "      <td>Positive</td>\n",
       "    </tr>\n",
       "  </tbody>\n",
       "</table>\n",
       "</div>\n",
       "      <button class=\"colab-df-convert\" onclick=\"convertToInteractive('df-7b91df73-1239-43a0-b97e-774ad97d7f29')\"\n",
       "              title=\"Convert this dataframe to an interactive table.\"\n",
       "              style=\"display:none;\">\n",
       "        \n",
       "  <svg xmlns=\"http://www.w3.org/2000/svg\" height=\"24px\"viewBox=\"0 0 24 24\"\n",
       "       width=\"24px\">\n",
       "    <path d=\"M0 0h24v24H0V0z\" fill=\"none\"/>\n",
       "    <path d=\"M18.56 5.44l.94 2.06.94-2.06 2.06-.94-2.06-.94-.94-2.06-.94 2.06-2.06.94zm-11 1L8.5 8.5l.94-2.06 2.06-.94-2.06-.94L8.5 2.5l-.94 2.06-2.06.94zm10 10l.94 2.06.94-2.06 2.06-.94-2.06-.94-.94-2.06-.94 2.06-2.06.94z\"/><path d=\"M17.41 7.96l-1.37-1.37c-.4-.4-.92-.59-1.43-.59-.52 0-1.04.2-1.43.59L10.3 9.45l-7.72 7.72c-.78.78-.78 2.05 0 2.83L4 21.41c.39.39.9.59 1.41.59.51 0 1.02-.2 1.41-.59l7.78-7.78 2.81-2.81c.8-.78.8-2.07 0-2.86zM5.41 20L4 18.59l7.72-7.72 1.47 1.35L5.41 20z\"/>\n",
       "  </svg>\n",
       "      </button>\n",
       "      \n",
       "  <style>\n",
       "    .colab-df-container {\n",
       "      display:flex;\n",
       "      flex-wrap:wrap;\n",
       "      gap: 12px;\n",
       "    }\n",
       "\n",
       "    .colab-df-convert {\n",
       "      background-color: #E8F0FE;\n",
       "      border: none;\n",
       "      border-radius: 50%;\n",
       "      cursor: pointer;\n",
       "      display: none;\n",
       "      fill: #1967D2;\n",
       "      height: 32px;\n",
       "      padding: 0 0 0 0;\n",
       "      width: 32px;\n",
       "    }\n",
       "\n",
       "    .colab-df-convert:hover {\n",
       "      background-color: #E2EBFA;\n",
       "      box-shadow: 0px 1px 2px rgba(60, 64, 67, 0.3), 0px 1px 3px 1px rgba(60, 64, 67, 0.15);\n",
       "      fill: #174EA6;\n",
       "    }\n",
       "\n",
       "    [theme=dark] .colab-df-convert {\n",
       "      background-color: #3B4455;\n",
       "      fill: #D2E3FC;\n",
       "    }\n",
       "\n",
       "    [theme=dark] .colab-df-convert:hover {\n",
       "      background-color: #434B5C;\n",
       "      box-shadow: 0px 1px 3px 1px rgba(0, 0, 0, 0.15);\n",
       "      filter: drop-shadow(0px 1px 2px rgba(0, 0, 0, 0.3));\n",
       "      fill: #FFFFFF;\n",
       "    }\n",
       "  </style>\n",
       "\n",
       "      <script>\n",
       "        const buttonEl =\n",
       "          document.querySelector('#df-7b91df73-1239-43a0-b97e-774ad97d7f29 button.colab-df-convert');\n",
       "        buttonEl.style.display =\n",
       "          google.colab.kernel.accessAllowed ? 'block' : 'none';\n",
       "\n",
       "        async function convertToInteractive(key) {\n",
       "          const element = document.querySelector('#df-7b91df73-1239-43a0-b97e-774ad97d7f29');\n",
       "          const dataTable =\n",
       "            await google.colab.kernel.invokeFunction('convertToInteractive',\n",
       "                                                     [key], {});\n",
       "          if (!dataTable) return;\n",
       "\n",
       "          const docLinkHtml = 'Like what you see? Visit the ' +\n",
       "            '<a target=\"_blank\" href=https://colab.research.google.com/notebooks/data_table.ipynb>data table notebook</a>'\n",
       "            + ' to learn more about interactive tables.';\n",
       "          element.innerHTML = '';\n",
       "          dataTable['output_type'] = 'display_data';\n",
       "          await google.colab.output.renderOutput(dataTable, element);\n",
       "          const docLink = document.createElement('div');\n",
       "          docLink.innerHTML = docLinkHtml;\n",
       "          element.appendChild(docLink);\n",
       "        }\n",
       "      </script>\n",
       "    </div>\n",
       "  </div>\n",
       "  "
      ],
      "text/plain": [
       "                       id            user_name    user_location  \\\n",
       "9995  1494341955710439436  Ann Marie Pincivero           Canada   \n",
       "9996  1494341816824451087        Nathan Joyner  Los Angeles, CA   \n",
       "9997  1494341743117942786          ColoradoSPH         Colorado   \n",
       "9998  1494341682082557954      Liz Parrish MBA              NaN   \n",
       "9999  1494341295006830594        Nathan Joyner  Los Angeles, CA   \n",
       "\n",
       "                                       user_description         user_created  \\\n",
       "9995  LOVE my girl ❤️, writing✍️, art🎨, beauty🌺, mus...  2009-03-27 08:56:15   \n",
       "9996  Global Venture Captial and Private Equity/Busi...  2015-05-18 20:52:29   \n",
       "9997  The accredited Colorado School of Public Healt...  2009-06-05 15:36:53   \n",
       "9998                                                NaN  2012-08-29 18:39:35   \n",
       "9999  Global Venture Captial and Private Equity/Busi...  2015-05-18 20:52:29   \n",
       "\n",
       "      user_followers  user_friends  user_favourites  user_verified  \\\n",
       "9995            9543          9038                2          False   \n",
       "9996              56            11              818          False   \n",
       "9997            7307          1305             1941          False   \n",
       "9998            4925            93              708          False   \n",
       "9999              56            11              818          False   \n",
       "\n",
       "                     date                                               text  \\\n",
       "9995  2022-02-17 16:04:20  Being called \"Lady of the Mask\" by a troll I b...   \n",
       "9996  2022-02-17 16:03:47  7 Day Covid Deaths per 1K Population by County...   \n",
       "9997  2022-02-17 16:03:29  More than 12,000 people in CO have died of #CO...   \n",
       "9998  2022-02-17 16:03:15  “The research, published in the journal Nature...   \n",
       "9999  2022-02-17 16:01:42  7 Day Covid Deaths per 1K Population by County...   \n",
       "\n",
       "         hashtags           source  retweets  favorites  is_retweet Sentiment  \n",
       "9995          NaN  Twitter Web App         0          0       False  Positive  \n",
       "9996          NaN   smcapplication         1          1       False  Positive  \n",
       "9997  ['COVID19']   Hootsuite Inc.         0          1       False  Negative  \n",
       "9998          NaN   Hootsuite Inc.         1          9       False  Positive  \n",
       "9999          NaN   smcapplication         1          1       False  Positive  "
      ]
     },
     "execution_count": 4,
     "metadata": {},
     "output_type": "execute_result"
    }
   ],
   "source": [
    "print(\"Last 5 rows are:\")\n",
    "df.tail()"
   ]
  },
  {
   "cell_type": "code",
   "execution_count": null,
   "id": "76c327d2-3d9f-4f53-ab36-c6938b4b3e9f",
   "metadata": {
    "colab": {
     "base_uri": "https://localhost:8080/",
     "height": 232
    },
    "id": "76c327d2-3d9f-4f53-ab36-c6938b4b3e9f",
    "outputId": "6a5a3c23-47ca-4b18-8f99-03dc67e9e86b"
   },
   "outputs": [
    {
     "name": "stdout",
     "output_type": "stream",
     "text": [
      "Random row value:\n"
     ]
    },
    {
     "data": {
      "text/html": [
       "\n",
       "  <div id=\"df-ab0e959a-dc55-42c8-8f82-d96a2b0f33a2\">\n",
       "    <div class=\"colab-df-container\">\n",
       "      <div>\n",
       "<style scoped>\n",
       "    .dataframe tbody tr th:only-of-type {\n",
       "        vertical-align: middle;\n",
       "    }\n",
       "\n",
       "    .dataframe tbody tr th {\n",
       "        vertical-align: top;\n",
       "    }\n",
       "\n",
       "    .dataframe thead th {\n",
       "        text-align: right;\n",
       "    }\n",
       "</style>\n",
       "<table border=\"1\" class=\"dataframe\">\n",
       "  <thead>\n",
       "    <tr style=\"text-align: right;\">\n",
       "      <th></th>\n",
       "      <th>id</th>\n",
       "      <th>user_name</th>\n",
       "      <th>user_location</th>\n",
       "      <th>user_description</th>\n",
       "      <th>user_created</th>\n",
       "      <th>user_followers</th>\n",
       "      <th>user_friends</th>\n",
       "      <th>user_favourites</th>\n",
       "      <th>user_verified</th>\n",
       "      <th>date</th>\n",
       "      <th>text</th>\n",
       "      <th>hashtags</th>\n",
       "      <th>source</th>\n",
       "      <th>retweets</th>\n",
       "      <th>favorites</th>\n",
       "      <th>is_retweet</th>\n",
       "      <th>Sentiment</th>\n",
       "    </tr>\n",
       "  </thead>\n",
       "  <tbody>\n",
       "    <tr>\n",
       "      <th>6096</th>\n",
       "      <td>1494116088426209285</td>\n",
       "      <td>M. Haytham Matthews</td>\n",
       "      <td>United States of America</td>\n",
       "      <td>MPH/MSUP, former software professional (Columb...</td>\n",
       "      <td>2014-03-19 02:10:21</td>\n",
       "      <td>449</td>\n",
       "      <td>4005</td>\n",
       "      <td>22642</td>\n",
       "      <td>False</td>\n",
       "      <td>2022-02-17 01:06:49</td>\n",
       "      <td>#Omicron is the most contagious #SARSCoV2 vari...</td>\n",
       "      <td>['Omicron', 'SARSCoV2']</td>\n",
       "      <td>Twitter Web App</td>\n",
       "      <td>0</td>\n",
       "      <td>1</td>\n",
       "      <td>False</td>\n",
       "      <td>Negative</td>\n",
       "    </tr>\n",
       "  </tbody>\n",
       "</table>\n",
       "</div>\n",
       "      <button class=\"colab-df-convert\" onclick=\"convertToInteractive('df-ab0e959a-dc55-42c8-8f82-d96a2b0f33a2')\"\n",
       "              title=\"Convert this dataframe to an interactive table.\"\n",
       "              style=\"display:none;\">\n",
       "        \n",
       "  <svg xmlns=\"http://www.w3.org/2000/svg\" height=\"24px\"viewBox=\"0 0 24 24\"\n",
       "       width=\"24px\">\n",
       "    <path d=\"M0 0h24v24H0V0z\" fill=\"none\"/>\n",
       "    <path d=\"M18.56 5.44l.94 2.06.94-2.06 2.06-.94-2.06-.94-.94-2.06-.94 2.06-2.06.94zm-11 1L8.5 8.5l.94-2.06 2.06-.94-2.06-.94L8.5 2.5l-.94 2.06-2.06.94zm10 10l.94 2.06.94-2.06 2.06-.94-2.06-.94-.94-2.06-.94 2.06-2.06.94z\"/><path d=\"M17.41 7.96l-1.37-1.37c-.4-.4-.92-.59-1.43-.59-.52 0-1.04.2-1.43.59L10.3 9.45l-7.72 7.72c-.78.78-.78 2.05 0 2.83L4 21.41c.39.39.9.59 1.41.59.51 0 1.02-.2 1.41-.59l7.78-7.78 2.81-2.81c.8-.78.8-2.07 0-2.86zM5.41 20L4 18.59l7.72-7.72 1.47 1.35L5.41 20z\"/>\n",
       "  </svg>\n",
       "      </button>\n",
       "      \n",
       "  <style>\n",
       "    .colab-df-container {\n",
       "      display:flex;\n",
       "      flex-wrap:wrap;\n",
       "      gap: 12px;\n",
       "    }\n",
       "\n",
       "    .colab-df-convert {\n",
       "      background-color: #E8F0FE;\n",
       "      border: none;\n",
       "      border-radius: 50%;\n",
       "      cursor: pointer;\n",
       "      display: none;\n",
       "      fill: #1967D2;\n",
       "      height: 32px;\n",
       "      padding: 0 0 0 0;\n",
       "      width: 32px;\n",
       "    }\n",
       "\n",
       "    .colab-df-convert:hover {\n",
       "      background-color: #E2EBFA;\n",
       "      box-shadow: 0px 1px 2px rgba(60, 64, 67, 0.3), 0px 1px 3px 1px rgba(60, 64, 67, 0.15);\n",
       "      fill: #174EA6;\n",
       "    }\n",
       "\n",
       "    [theme=dark] .colab-df-convert {\n",
       "      background-color: #3B4455;\n",
       "      fill: #D2E3FC;\n",
       "    }\n",
       "\n",
       "    [theme=dark] .colab-df-convert:hover {\n",
       "      background-color: #434B5C;\n",
       "      box-shadow: 0px 1px 3px 1px rgba(0, 0, 0, 0.15);\n",
       "      filter: drop-shadow(0px 1px 2px rgba(0, 0, 0, 0.3));\n",
       "      fill: #FFFFFF;\n",
       "    }\n",
       "  </style>\n",
       "\n",
       "      <script>\n",
       "        const buttonEl =\n",
       "          document.querySelector('#df-ab0e959a-dc55-42c8-8f82-d96a2b0f33a2 button.colab-df-convert');\n",
       "        buttonEl.style.display =\n",
       "          google.colab.kernel.accessAllowed ? 'block' : 'none';\n",
       "\n",
       "        async function convertToInteractive(key) {\n",
       "          const element = document.querySelector('#df-ab0e959a-dc55-42c8-8f82-d96a2b0f33a2');\n",
       "          const dataTable =\n",
       "            await google.colab.kernel.invokeFunction('convertToInteractive',\n",
       "                                                     [key], {});\n",
       "          if (!dataTable) return;\n",
       "\n",
       "          const docLinkHtml = 'Like what you see? Visit the ' +\n",
       "            '<a target=\"_blank\" href=https://colab.research.google.com/notebooks/data_table.ipynb>data table notebook</a>'\n",
       "            + ' to learn more about interactive tables.';\n",
       "          element.innerHTML = '';\n",
       "          dataTable['output_type'] = 'display_data';\n",
       "          await google.colab.output.renderOutput(dataTable, element);\n",
       "          const docLink = document.createElement('div');\n",
       "          docLink.innerHTML = docLinkHtml;\n",
       "          element.appendChild(docLink);\n",
       "        }\n",
       "      </script>\n",
       "    </div>\n",
       "  </div>\n",
       "  "
      ],
      "text/plain": [
       "                       id            user_name             user_location  \\\n",
       "6096  1494116088426209285  M. Haytham Matthews  United States of America   \n",
       "\n",
       "                                       user_description         user_created  \\\n",
       "6096  MPH/MSUP, former software professional (Columb...  2014-03-19 02:10:21   \n",
       "\n",
       "      user_followers  user_friends  user_favourites  user_verified  \\\n",
       "6096             449          4005            22642          False   \n",
       "\n",
       "                     date                                               text  \\\n",
       "6096  2022-02-17 01:06:49  #Omicron is the most contagious #SARSCoV2 vari...   \n",
       "\n",
       "                     hashtags           source  retweets  favorites  \\\n",
       "6096  ['Omicron', 'SARSCoV2']  Twitter Web App         0          1   \n",
       "\n",
       "      is_retweet Sentiment  \n",
       "6096       False  Negative  "
      ]
     },
     "execution_count": 5,
     "metadata": {},
     "output_type": "execute_result"
    }
   ],
   "source": [
    "print(\"Random row value:\")\n",
    "df.sample()"
   ]
  },
  {
   "cell_type": "code",
   "execution_count": null,
   "id": "20e0ef76-1cd9-441a-8b4c-6389281a55b7",
   "metadata": {
    "colab": {
     "base_uri": "https://localhost:8080/"
    },
    "id": "20e0ef76-1cd9-441a-8b4c-6389281a55b7",
    "outputId": "cdd5d98c-33f2-48ef-dceb-fa9d8210207c"
   },
   "outputs": [
    {
     "name": "stdout",
     "output_type": "stream",
     "text": [
      "Data Shape:(10000, 17)\n"
     ]
    }
   ],
   "source": [
    "print(f\"Data Shape:{df.shape}\")"
   ]
  },
  {
   "cell_type": "code",
   "execution_count": null,
   "id": "d3a7ed27-e469-4e54-a053-fd042799e63b",
   "metadata": {
    "colab": {
     "base_uri": "https://localhost:8080/"
    },
    "id": "d3a7ed27-e469-4e54-a053-fd042799e63b",
    "outputId": "3120783f-fdfc-4f52-affd-07307b8b9256"
   },
   "outputs": [
    {
     "name": "stdout",
     "output_type": "stream",
     "text": [
      "There are 17 in the given dataset and their names are\n",
      "Index(['id', 'user_name', 'user_location', 'user_description', 'user_created',\n",
      "       'user_followers', 'user_friends', 'user_favourites', 'user_verified',\n",
      "       'date', 'text', 'hashtags', 'source', 'retweets', 'favorites',\n",
      "       'is_retweet', 'Sentiment'],\n",
      "      dtype='object')\n"
     ]
    }
   ],
   "source": [
    "print(f\"There are {len(df.columns)} in the given dataset and their names are\\n{df.columns}\" )"
   ]
  },
  {
   "cell_type": "code",
   "execution_count": null,
   "id": "66334879-785c-48cf-84c9-d5fd1af3674d",
   "metadata": {
    "colab": {
     "base_uri": "https://localhost:8080/"
    },
    "id": "66334879-785c-48cf-84c9-d5fd1af3674d",
    "outputId": "3057a189-657e-4104-b088-8700523cf82d"
   },
   "outputs": [
    {
     "data": {
      "text/plain": [
       "id                   int64\n",
       "user_name           object\n",
       "user_location       object\n",
       "user_description    object\n",
       "user_created        object\n",
       "user_followers       int64\n",
       "user_friends         int64\n",
       "user_favourites      int64\n",
       "user_verified         bool\n",
       "date                object\n",
       "text                object\n",
       "hashtags            object\n",
       "source              object\n",
       "retweets             int64\n",
       "favorites            int64\n",
       "is_retweet            bool\n",
       "Sentiment           object\n",
       "dtype: object"
      ]
     },
     "execution_count": 8,
     "metadata": {},
     "output_type": "execute_result"
    }
   ],
   "source": [
    "df.dtypes  "
   ]
  },
  {
   "cell_type": "code",
   "execution_count": null,
   "id": "9e2b3517-7bb5-48f0-84cb-f6ecd412a7ef",
   "metadata": {
    "colab": {
     "base_uri": "https://localhost:8080/"
    },
    "id": "9e2b3517-7bb5-48f0-84cb-f6ecd412a7ef",
    "outputId": "ebdfb5f0-55ec-47af-f4d5-1d8c5d1db1b1"
   },
   "outputs": [
    {
     "name": "stdout",
     "output_type": "stream",
     "text": [
      "<class 'pandas.core.frame.DataFrame'>\n",
      "RangeIndex: 10000 entries, 0 to 9999\n",
      "Data columns (total 17 columns):\n",
      " #   Column            Non-Null Count  Dtype \n",
      "---  ------            --------------  ----- \n",
      " 0   id                10000 non-null  int64 \n",
      " 1   user_name         10000 non-null  object\n",
      " 2   user_location     8270 non-null   object\n",
      " 3   user_description  9377 non-null   object\n",
      " 4   user_created      10000 non-null  object\n",
      " 5   user_followers    10000 non-null  int64 \n",
      " 6   user_friends      10000 non-null  int64 \n",
      " 7   user_favourites   10000 non-null  int64 \n",
      " 8   user_verified     10000 non-null  bool  \n",
      " 9   date              10000 non-null  object\n",
      " 10  text              10000 non-null  object\n",
      " 11  hashtags          5403 non-null   object\n",
      " 12  source            10000 non-null  object\n",
      " 13  retweets          10000 non-null  int64 \n",
      " 14  favorites         10000 non-null  int64 \n",
      " 15  is_retweet        10000 non-null  bool  \n",
      " 16  Sentiment         10000 non-null  object\n",
      "dtypes: bool(2), int64(6), object(9)\n",
      "memory usage: 1.2+ MB\n"
     ]
    }
   ],
   "source": [
    "df.info()"
   ]
  },
  {
   "cell_type": "code",
   "execution_count": null,
   "id": "c84ced49-139c-403d-abcd-d239b7fd063f",
   "metadata": {
    "colab": {
     "base_uri": "https://localhost:8080/",
     "height": 545
    },
    "id": "c84ced49-139c-403d-abcd-d239b7fd063f",
    "outputId": "843069d3-de56-4cc6-fee5-a6a4b1696f3f"
   },
   "outputs": [
    {
     "data": {
      "text/html": [
       "\n",
       "  <div id=\"df-b281d873-8bef-45bd-879e-10e9e832f578\">\n",
       "    <div class=\"colab-df-container\">\n",
       "      <div>\n",
       "<style scoped>\n",
       "    .dataframe tbody tr th:only-of-type {\n",
       "        vertical-align: middle;\n",
       "    }\n",
       "\n",
       "    .dataframe tbody tr th {\n",
       "        vertical-align: top;\n",
       "    }\n",
       "\n",
       "    .dataframe thead th {\n",
       "        text-align: right;\n",
       "    }\n",
       "</style>\n",
       "<table border=\"1\" class=\"dataframe\">\n",
       "  <thead>\n",
       "    <tr style=\"text-align: right;\">\n",
       "      <th></th>\n",
       "      <th>id</th>\n",
       "      <th>user_name</th>\n",
       "      <th>user_location</th>\n",
       "      <th>user_description</th>\n",
       "      <th>user_created</th>\n",
       "      <th>user_followers</th>\n",
       "      <th>user_friends</th>\n",
       "      <th>user_favourites</th>\n",
       "      <th>user_verified</th>\n",
       "      <th>date</th>\n",
       "      <th>text</th>\n",
       "      <th>hashtags</th>\n",
       "      <th>source</th>\n",
       "      <th>retweets</th>\n",
       "      <th>favorites</th>\n",
       "      <th>is_retweet</th>\n",
       "      <th>Sentiment</th>\n",
       "    </tr>\n",
       "  </thead>\n",
       "  <tbody>\n",
       "    <tr>\n",
       "      <th>count</th>\n",
       "      <td>1.000000e+04</td>\n",
       "      <td>10000</td>\n",
       "      <td>8270</td>\n",
       "      <td>9377</td>\n",
       "      <td>10000</td>\n",
       "      <td>1.000000e+04</td>\n",
       "      <td>10000.000000</td>\n",
       "      <td>10000.000000</td>\n",
       "      <td>10000</td>\n",
       "      <td>10000</td>\n",
       "      <td>10000</td>\n",
       "      <td>5403</td>\n",
       "      <td>10000</td>\n",
       "      <td>10000.000000</td>\n",
       "      <td>10000.000000</td>\n",
       "      <td>10000</td>\n",
       "      <td>10000</td>\n",
       "    </tr>\n",
       "    <tr>\n",
       "      <th>unique</th>\n",
       "      <td>NaN</td>\n",
       "      <td>3747</td>\n",
       "      <td>1712</td>\n",
       "      <td>3471</td>\n",
       "      <td>3754</td>\n",
       "      <td>NaN</td>\n",
       "      <td>NaN</td>\n",
       "      <td>NaN</td>\n",
       "      <td>2</td>\n",
       "      <td>9863</td>\n",
       "      <td>9983</td>\n",
       "      <td>2640</td>\n",
       "      <td>135</td>\n",
       "      <td>NaN</td>\n",
       "      <td>NaN</td>\n",
       "      <td>1</td>\n",
       "      <td>2</td>\n",
       "    </tr>\n",
       "    <tr>\n",
       "      <th>top</th>\n",
       "      <td>NaN</td>\n",
       "      <td>Nathan Joyner</td>\n",
       "      <td>Los Angeles, CA</td>\n",
       "      <td>Global Venture Captial and Private Equity/Busi...</td>\n",
       "      <td>2015-05-18 20:52:29</td>\n",
       "      <td>NaN</td>\n",
       "      <td>NaN</td>\n",
       "      <td>NaN</td>\n",
       "      <td>False</td>\n",
       "      <td>2022-02-09 13:00:17</td>\n",
       "      <td>Very strong evidence, can there be any rebutta...</td>\n",
       "      <td>['Omicron']</td>\n",
       "      <td>Twitter Web App</td>\n",
       "      <td>NaN</td>\n",
       "      <td>NaN</td>\n",
       "      <td>False</td>\n",
       "      <td>Positive</td>\n",
       "    </tr>\n",
       "    <tr>\n",
       "      <th>freq</th>\n",
       "      <td>NaN</td>\n",
       "      <td>2429</td>\n",
       "      <td>2443</td>\n",
       "      <td>2429</td>\n",
       "      <td>2429</td>\n",
       "      <td>NaN</td>\n",
       "      <td>NaN</td>\n",
       "      <td>NaN</td>\n",
       "      <td>8946</td>\n",
       "      <td>4</td>\n",
       "      <td>10</td>\n",
       "      <td>903</td>\n",
       "      <td>3749</td>\n",
       "      <td>NaN</td>\n",
       "      <td>NaN</td>\n",
       "      <td>10000</td>\n",
       "      <td>7793</td>\n",
       "    </tr>\n",
       "    <tr>\n",
       "      <th>mean</th>\n",
       "      <td>1.493307e+18</td>\n",
       "      <td>NaN</td>\n",
       "      <td>NaN</td>\n",
       "      <td>NaN</td>\n",
       "      <td>NaN</td>\n",
       "      <td>7.334045e+04</td>\n",
       "      <td>2083.287000</td>\n",
       "      <td>14726.762000</td>\n",
       "      <td>NaN</td>\n",
       "      <td>NaN</td>\n",
       "      <td>NaN</td>\n",
       "      <td>NaN</td>\n",
       "      <td>NaN</td>\n",
       "      <td>2.782900</td>\n",
       "      <td>6.824700</td>\n",
       "      <td>NaN</td>\n",
       "      <td>NaN</td>\n",
       "    </tr>\n",
       "    <tr>\n",
       "      <th>std</th>\n",
       "      <td>1.207708e+15</td>\n",
       "      <td>NaN</td>\n",
       "      <td>NaN</td>\n",
       "      <td>NaN</td>\n",
       "      <td>NaN</td>\n",
       "      <td>6.159812e+05</td>\n",
       "      <td>9443.040156</td>\n",
       "      <td>46182.157322</td>\n",
       "      <td>NaN</td>\n",
       "      <td>NaN</td>\n",
       "      <td>NaN</td>\n",
       "      <td>NaN</td>\n",
       "      <td>NaN</td>\n",
       "      <td>42.383341</td>\n",
       "      <td>90.358256</td>\n",
       "      <td>NaN</td>\n",
       "      <td>NaN</td>\n",
       "    </tr>\n",
       "    <tr>\n",
       "      <th>min</th>\n",
       "      <td>1.491238e+18</td>\n",
       "      <td>NaN</td>\n",
       "      <td>NaN</td>\n",
       "      <td>NaN</td>\n",
       "      <td>NaN</td>\n",
       "      <td>0.000000e+00</td>\n",
       "      <td>0.000000</td>\n",
       "      <td>0.000000</td>\n",
       "      <td>NaN</td>\n",
       "      <td>NaN</td>\n",
       "      <td>NaN</td>\n",
       "      <td>NaN</td>\n",
       "      <td>NaN</td>\n",
       "      <td>0.000000</td>\n",
       "      <td>0.000000</td>\n",
       "      <td>NaN</td>\n",
       "      <td>NaN</td>\n",
       "    </tr>\n",
       "    <tr>\n",
       "      <th>25%</th>\n",
       "      <td>1.491767e+18</td>\n",
       "      <td>NaN</td>\n",
       "      <td>NaN</td>\n",
       "      <td>NaN</td>\n",
       "      <td>NaN</td>\n",
       "      <td>5.600000e+01</td>\n",
       "      <td>11.000000</td>\n",
       "      <td>474.750000</td>\n",
       "      <td>NaN</td>\n",
       "      <td>NaN</td>\n",
       "      <td>NaN</td>\n",
       "      <td>NaN</td>\n",
       "      <td>NaN</td>\n",
       "      <td>0.000000</td>\n",
       "      <td>0.000000</td>\n",
       "      <td>NaN</td>\n",
       "      <td>NaN</td>\n",
       "    </tr>\n",
       "    <tr>\n",
       "      <th>50%</th>\n",
       "      <td>1.493711e+18</td>\n",
       "      <td>NaN</td>\n",
       "      <td>NaN</td>\n",
       "      <td>NaN</td>\n",
       "      <td>NaN</td>\n",
       "      <td>3.195000e+02</td>\n",
       "      <td>257.000000</td>\n",
       "      <td>818.000000</td>\n",
       "      <td>NaN</td>\n",
       "      <td>NaN</td>\n",
       "      <td>NaN</td>\n",
       "      <td>NaN</td>\n",
       "      <td>NaN</td>\n",
       "      <td>0.000000</td>\n",
       "      <td>1.000000</td>\n",
       "      <td>NaN</td>\n",
       "      <td>NaN</td>\n",
       "    </tr>\n",
       "    <tr>\n",
       "      <th>75%</th>\n",
       "      <td>1.494230e+18</td>\n",
       "      <td>NaN</td>\n",
       "      <td>NaN</td>\n",
       "      <td>NaN</td>\n",
       "      <td>NaN</td>\n",
       "      <td>3.330250e+03</td>\n",
       "      <td>1229.000000</td>\n",
       "      <td>7544.000000</td>\n",
       "      <td>NaN</td>\n",
       "      <td>NaN</td>\n",
       "      <td>NaN</td>\n",
       "      <td>NaN</td>\n",
       "      <td>NaN</td>\n",
       "      <td>1.000000</td>\n",
       "      <td>1.000000</td>\n",
       "      <td>NaN</td>\n",
       "      <td>NaN</td>\n",
       "    </tr>\n",
       "    <tr>\n",
       "      <th>max</th>\n",
       "      <td>1.494948e+18</td>\n",
       "      <td>NaN</td>\n",
       "      <td>NaN</td>\n",
       "      <td>NaN</td>\n",
       "      <td>NaN</td>\n",
       "      <td>1.675220e+07</td>\n",
       "      <td>386445.000000</td>\n",
       "      <td>999949.000000</td>\n",
       "      <td>NaN</td>\n",
       "      <td>NaN</td>\n",
       "      <td>NaN</td>\n",
       "      <td>NaN</td>\n",
       "      <td>NaN</td>\n",
       "      <td>2976.000000</td>\n",
       "      <td>5491.000000</td>\n",
       "      <td>NaN</td>\n",
       "      <td>NaN</td>\n",
       "    </tr>\n",
       "  </tbody>\n",
       "</table>\n",
       "</div>\n",
       "      <button class=\"colab-df-convert\" onclick=\"convertToInteractive('df-b281d873-8bef-45bd-879e-10e9e832f578')\"\n",
       "              title=\"Convert this dataframe to an interactive table.\"\n",
       "              style=\"display:none;\">\n",
       "        \n",
       "  <svg xmlns=\"http://www.w3.org/2000/svg\" height=\"24px\"viewBox=\"0 0 24 24\"\n",
       "       width=\"24px\">\n",
       "    <path d=\"M0 0h24v24H0V0z\" fill=\"none\"/>\n",
       "    <path d=\"M18.56 5.44l.94 2.06.94-2.06 2.06-.94-2.06-.94-.94-2.06-.94 2.06-2.06.94zm-11 1L8.5 8.5l.94-2.06 2.06-.94-2.06-.94L8.5 2.5l-.94 2.06-2.06.94zm10 10l.94 2.06.94-2.06 2.06-.94-2.06-.94-.94-2.06-.94 2.06-2.06.94z\"/><path d=\"M17.41 7.96l-1.37-1.37c-.4-.4-.92-.59-1.43-.59-.52 0-1.04.2-1.43.59L10.3 9.45l-7.72 7.72c-.78.78-.78 2.05 0 2.83L4 21.41c.39.39.9.59 1.41.59.51 0 1.02-.2 1.41-.59l7.78-7.78 2.81-2.81c.8-.78.8-2.07 0-2.86zM5.41 20L4 18.59l7.72-7.72 1.47 1.35L5.41 20z\"/>\n",
       "  </svg>\n",
       "      </button>\n",
       "      \n",
       "  <style>\n",
       "    .colab-df-container {\n",
       "      display:flex;\n",
       "      flex-wrap:wrap;\n",
       "      gap: 12px;\n",
       "    }\n",
       "\n",
       "    .colab-df-convert {\n",
       "      background-color: #E8F0FE;\n",
       "      border: none;\n",
       "      border-radius: 50%;\n",
       "      cursor: pointer;\n",
       "      display: none;\n",
       "      fill: #1967D2;\n",
       "      height: 32px;\n",
       "      padding: 0 0 0 0;\n",
       "      width: 32px;\n",
       "    }\n",
       "\n",
       "    .colab-df-convert:hover {\n",
       "      background-color: #E2EBFA;\n",
       "      box-shadow: 0px 1px 2px rgba(60, 64, 67, 0.3), 0px 1px 3px 1px rgba(60, 64, 67, 0.15);\n",
       "      fill: #174EA6;\n",
       "    }\n",
       "\n",
       "    [theme=dark] .colab-df-convert {\n",
       "      background-color: #3B4455;\n",
       "      fill: #D2E3FC;\n",
       "    }\n",
       "\n",
       "    [theme=dark] .colab-df-convert:hover {\n",
       "      background-color: #434B5C;\n",
       "      box-shadow: 0px 1px 3px 1px rgba(0, 0, 0, 0.15);\n",
       "      filter: drop-shadow(0px 1px 2px rgba(0, 0, 0, 0.3));\n",
       "      fill: #FFFFFF;\n",
       "    }\n",
       "  </style>\n",
       "\n",
       "      <script>\n",
       "        const buttonEl =\n",
       "          document.querySelector('#df-b281d873-8bef-45bd-879e-10e9e832f578 button.colab-df-convert');\n",
       "        buttonEl.style.display =\n",
       "          google.colab.kernel.accessAllowed ? 'block' : 'none';\n",
       "\n",
       "        async function convertToInteractive(key) {\n",
       "          const element = document.querySelector('#df-b281d873-8bef-45bd-879e-10e9e832f578');\n",
       "          const dataTable =\n",
       "            await google.colab.kernel.invokeFunction('convertToInteractive',\n",
       "                                                     [key], {});\n",
       "          if (!dataTable) return;\n",
       "\n",
       "          const docLinkHtml = 'Like what you see? Visit the ' +\n",
       "            '<a target=\"_blank\" href=https://colab.research.google.com/notebooks/data_table.ipynb>data table notebook</a>'\n",
       "            + ' to learn more about interactive tables.';\n",
       "          element.innerHTML = '';\n",
       "          dataTable['output_type'] = 'display_data';\n",
       "          await google.colab.output.renderOutput(dataTable, element);\n",
       "          const docLink = document.createElement('div');\n",
       "          docLink.innerHTML = docLinkHtml;\n",
       "          element.appendChild(docLink);\n",
       "        }\n",
       "      </script>\n",
       "    </div>\n",
       "  </div>\n",
       "  "
      ],
      "text/plain": [
       "                  id      user_name    user_location  \\\n",
       "count   1.000000e+04          10000             8270   \n",
       "unique           NaN           3747             1712   \n",
       "top              NaN  Nathan Joyner  Los Angeles, CA   \n",
       "freq             NaN           2429             2443   \n",
       "mean    1.493307e+18            NaN              NaN   \n",
       "std     1.207708e+15            NaN              NaN   \n",
       "min     1.491238e+18            NaN              NaN   \n",
       "25%     1.491767e+18            NaN              NaN   \n",
       "50%     1.493711e+18            NaN              NaN   \n",
       "75%     1.494230e+18            NaN              NaN   \n",
       "max     1.494948e+18            NaN              NaN   \n",
       "\n",
       "                                         user_description  \\\n",
       "count                                                9377   \n",
       "unique                                               3471   \n",
       "top     Global Venture Captial and Private Equity/Busi...   \n",
       "freq                                                 2429   \n",
       "mean                                                  NaN   \n",
       "std                                                   NaN   \n",
       "min                                                   NaN   \n",
       "25%                                                   NaN   \n",
       "50%                                                   NaN   \n",
       "75%                                                   NaN   \n",
       "max                                                   NaN   \n",
       "\n",
       "               user_created  user_followers   user_friends  user_favourites  \\\n",
       "count                 10000    1.000000e+04   10000.000000     10000.000000   \n",
       "unique                 3754             NaN            NaN              NaN   \n",
       "top     2015-05-18 20:52:29             NaN            NaN              NaN   \n",
       "freq                   2429             NaN            NaN              NaN   \n",
       "mean                    NaN    7.334045e+04    2083.287000     14726.762000   \n",
       "std                     NaN    6.159812e+05    9443.040156     46182.157322   \n",
       "min                     NaN    0.000000e+00       0.000000         0.000000   \n",
       "25%                     NaN    5.600000e+01      11.000000       474.750000   \n",
       "50%                     NaN    3.195000e+02     257.000000       818.000000   \n",
       "75%                     NaN    3.330250e+03    1229.000000      7544.000000   \n",
       "max                     NaN    1.675220e+07  386445.000000    999949.000000   \n",
       "\n",
       "       user_verified                 date  \\\n",
       "count          10000                10000   \n",
       "unique             2                 9863   \n",
       "top            False  2022-02-09 13:00:17   \n",
       "freq            8946                    4   \n",
       "mean             NaN                  NaN   \n",
       "std              NaN                  NaN   \n",
       "min              NaN                  NaN   \n",
       "25%              NaN                  NaN   \n",
       "50%              NaN                  NaN   \n",
       "75%              NaN                  NaN   \n",
       "max              NaN                  NaN   \n",
       "\n",
       "                                                     text     hashtags  \\\n",
       "count                                               10000         5403   \n",
       "unique                                               9983         2640   \n",
       "top     Very strong evidence, can there be any rebutta...  ['Omicron']   \n",
       "freq                                                   10          903   \n",
       "mean                                                  NaN          NaN   \n",
       "std                                                   NaN          NaN   \n",
       "min                                                   NaN          NaN   \n",
       "25%                                                   NaN          NaN   \n",
       "50%                                                   NaN          NaN   \n",
       "75%                                                   NaN          NaN   \n",
       "max                                                   NaN          NaN   \n",
       "\n",
       "                 source      retweets     favorites is_retweet Sentiment  \n",
       "count             10000  10000.000000  10000.000000      10000     10000  \n",
       "unique              135           NaN           NaN          1         2  \n",
       "top     Twitter Web App           NaN           NaN      False  Positive  \n",
       "freq               3749           NaN           NaN      10000      7793  \n",
       "mean                NaN      2.782900      6.824700        NaN       NaN  \n",
       "std                 NaN     42.383341     90.358256        NaN       NaN  \n",
       "min                 NaN      0.000000      0.000000        NaN       NaN  \n",
       "25%                 NaN      0.000000      0.000000        NaN       NaN  \n",
       "50%                 NaN      0.000000      1.000000        NaN       NaN  \n",
       "75%                 NaN      1.000000      1.000000        NaN       NaN  \n",
       "max                 NaN   2976.000000   5491.000000        NaN       NaN  "
      ]
     },
     "execution_count": 10,
     "metadata": {},
     "output_type": "execute_result"
    }
   ],
   "source": [
    "df.describe(include='all')"
   ]
  },
  {
   "cell_type": "code",
   "execution_count": null,
   "id": "5ea5c86f-1b84-43a2-9103-bfe483533cfc",
   "metadata": {
    "colab": {
     "base_uri": "https://localhost:8080/"
    },
    "id": "5ea5c86f-1b84-43a2-9103-bfe483533cfc",
    "outputId": "469432cd-db70-4604-f11c-9fa7216c7a50"
   },
   "outputs": [
    {
     "name": "stdout",
     "output_type": "stream",
     "text": [
      "There are 10000 rows in given dataset \n"
     ]
    }
   ],
   "source": [
    "print(f'There are {len(df)} rows in given dataset ')"
   ]
  },
  {
   "cell_type": "markdown",
   "id": "916c7202-db7b-431b-9b41-c54314ed6b3e",
   "metadata": {
    "id": "916c7202-db7b-431b-9b41-c54314ed6b3e",
    "tags": []
   },
   "source": [
    "# Checking Unique Values"
   ]
  },
  {
   "cell_type": "code",
   "execution_count": null,
   "id": "c20c0abc-f7ce-4a81-9bef-3e04e1f7c4bf",
   "metadata": {
    "colab": {
     "base_uri": "https://localhost:8080/"
    },
    "id": "c20c0abc-f7ce-4a81-9bef-3e04e1f7c4bf",
    "outputId": "aa257250-b7bb-4edc-bcf3-b0415d64ad0d"
   },
   "outputs": [
    {
     "data": {
      "text/plain": [
       "id                  10000\n",
       "user_name            3747\n",
       "user_location        1712\n",
       "user_description     3471\n",
       "user_created         3754\n",
       "user_followers       2824\n",
       "user_friends         2130\n",
       "user_favourites      3250\n",
       "user_verified           2\n",
       "date                 9863\n",
       "text                 9983\n",
       "hashtags             2640\n",
       "source                135\n",
       "retweets               96\n",
       "favorites             158\n",
       "is_retweet              1\n",
       "Sentiment               2\n",
       "dtype: int64"
      ]
     },
     "execution_count": 12,
     "metadata": {},
     "output_type": "execute_result"
    }
   ],
   "source": [
    "df.nunique()  "
   ]
  },
  {
   "cell_type": "code",
   "execution_count": null,
   "id": "53b6bb49-3856-47f1-b11d-f331e92b440b",
   "metadata": {
    "colab": {
     "base_uri": "https://localhost:8080/",
     "height": 582
    },
    "id": "53b6bb49-3856-47f1-b11d-f331e92b440b",
    "outputId": "136d3038-de73-4f43-8b1b-6b49300e61a3"
   },
   "outputs": [
    {
     "data": {
      "text/html": [
       "\n",
       "  <div id=\"df-bee9509f-571d-4e49-a610-ec59378fd8ce\">\n",
       "    <div class=\"colab-df-container\">\n",
       "      <div>\n",
       "<style scoped>\n",
       "    .dataframe tbody tr th:only-of-type {\n",
       "        vertical-align: middle;\n",
       "    }\n",
       "\n",
       "    .dataframe tbody tr th {\n",
       "        vertical-align: top;\n",
       "    }\n",
       "\n",
       "    .dataframe thead th {\n",
       "        text-align: right;\n",
       "    }\n",
       "</style>\n",
       "<table border=\"1\" class=\"dataframe\">\n",
       "  <thead>\n",
       "    <tr style=\"text-align: right;\">\n",
       "      <th></th>\n",
       "      <th>Unique</th>\n",
       "      <th>Total</th>\n",
       "    </tr>\n",
       "  </thead>\n",
       "  <tbody>\n",
       "    <tr>\n",
       "      <th>id</th>\n",
       "      <td>10000</td>\n",
       "      <td>10000</td>\n",
       "    </tr>\n",
       "    <tr>\n",
       "      <th>user_name</th>\n",
       "      <td>3747</td>\n",
       "      <td>10000</td>\n",
       "    </tr>\n",
       "    <tr>\n",
       "      <th>user_location</th>\n",
       "      <td>1712</td>\n",
       "      <td>8270</td>\n",
       "    </tr>\n",
       "    <tr>\n",
       "      <th>user_description</th>\n",
       "      <td>3471</td>\n",
       "      <td>9377</td>\n",
       "    </tr>\n",
       "    <tr>\n",
       "      <th>user_created</th>\n",
       "      <td>3754</td>\n",
       "      <td>10000</td>\n",
       "    </tr>\n",
       "    <tr>\n",
       "      <th>user_followers</th>\n",
       "      <td>2824</td>\n",
       "      <td>10000</td>\n",
       "    </tr>\n",
       "    <tr>\n",
       "      <th>user_friends</th>\n",
       "      <td>2130</td>\n",
       "      <td>10000</td>\n",
       "    </tr>\n",
       "    <tr>\n",
       "      <th>user_favourites</th>\n",
       "      <td>3250</td>\n",
       "      <td>10000</td>\n",
       "    </tr>\n",
       "    <tr>\n",
       "      <th>user_verified</th>\n",
       "      <td>2</td>\n",
       "      <td>10000</td>\n",
       "    </tr>\n",
       "    <tr>\n",
       "      <th>date</th>\n",
       "      <td>9863</td>\n",
       "      <td>10000</td>\n",
       "    </tr>\n",
       "    <tr>\n",
       "      <th>text</th>\n",
       "      <td>9983</td>\n",
       "      <td>10000</td>\n",
       "    </tr>\n",
       "    <tr>\n",
       "      <th>hashtags</th>\n",
       "      <td>2640</td>\n",
       "      <td>5403</td>\n",
       "    </tr>\n",
       "    <tr>\n",
       "      <th>source</th>\n",
       "      <td>135</td>\n",
       "      <td>10000</td>\n",
       "    </tr>\n",
       "    <tr>\n",
       "      <th>retweets</th>\n",
       "      <td>96</td>\n",
       "      <td>10000</td>\n",
       "    </tr>\n",
       "    <tr>\n",
       "      <th>favorites</th>\n",
       "      <td>158</td>\n",
       "      <td>10000</td>\n",
       "    </tr>\n",
       "    <tr>\n",
       "      <th>is_retweet</th>\n",
       "      <td>1</td>\n",
       "      <td>10000</td>\n",
       "    </tr>\n",
       "    <tr>\n",
       "      <th>Sentiment</th>\n",
       "      <td>2</td>\n",
       "      <td>10000</td>\n",
       "    </tr>\n",
       "  </tbody>\n",
       "</table>\n",
       "</div>\n",
       "      <button class=\"colab-df-convert\" onclick=\"convertToInteractive('df-bee9509f-571d-4e49-a610-ec59378fd8ce')\"\n",
       "              title=\"Convert this dataframe to an interactive table.\"\n",
       "              style=\"display:none;\">\n",
       "        \n",
       "  <svg xmlns=\"http://www.w3.org/2000/svg\" height=\"24px\"viewBox=\"0 0 24 24\"\n",
       "       width=\"24px\">\n",
       "    <path d=\"M0 0h24v24H0V0z\" fill=\"none\"/>\n",
       "    <path d=\"M18.56 5.44l.94 2.06.94-2.06 2.06-.94-2.06-.94-.94-2.06-.94 2.06-2.06.94zm-11 1L8.5 8.5l.94-2.06 2.06-.94-2.06-.94L8.5 2.5l-.94 2.06-2.06.94zm10 10l.94 2.06.94-2.06 2.06-.94-2.06-.94-.94-2.06-.94 2.06-2.06.94z\"/><path d=\"M17.41 7.96l-1.37-1.37c-.4-.4-.92-.59-1.43-.59-.52 0-1.04.2-1.43.59L10.3 9.45l-7.72 7.72c-.78.78-.78 2.05 0 2.83L4 21.41c.39.39.9.59 1.41.59.51 0 1.02-.2 1.41-.59l7.78-7.78 2.81-2.81c.8-.78.8-2.07 0-2.86zM5.41 20L4 18.59l7.72-7.72 1.47 1.35L5.41 20z\"/>\n",
       "  </svg>\n",
       "      </button>\n",
       "      \n",
       "  <style>\n",
       "    .colab-df-container {\n",
       "      display:flex;\n",
       "      flex-wrap:wrap;\n",
       "      gap: 12px;\n",
       "    }\n",
       "\n",
       "    .colab-df-convert {\n",
       "      background-color: #E8F0FE;\n",
       "      border: none;\n",
       "      border-radius: 50%;\n",
       "      cursor: pointer;\n",
       "      display: none;\n",
       "      fill: #1967D2;\n",
       "      height: 32px;\n",
       "      padding: 0 0 0 0;\n",
       "      width: 32px;\n",
       "    }\n",
       "\n",
       "    .colab-df-convert:hover {\n",
       "      background-color: #E2EBFA;\n",
       "      box-shadow: 0px 1px 2px rgba(60, 64, 67, 0.3), 0px 1px 3px 1px rgba(60, 64, 67, 0.15);\n",
       "      fill: #174EA6;\n",
       "    }\n",
       "\n",
       "    [theme=dark] .colab-df-convert {\n",
       "      background-color: #3B4455;\n",
       "      fill: #D2E3FC;\n",
       "    }\n",
       "\n",
       "    [theme=dark] .colab-df-convert:hover {\n",
       "      background-color: #434B5C;\n",
       "      box-shadow: 0px 1px 3px 1px rgba(0, 0, 0, 0.15);\n",
       "      filter: drop-shadow(0px 1px 2px rgba(0, 0, 0, 0.3));\n",
       "      fill: #FFFFFF;\n",
       "    }\n",
       "  </style>\n",
       "\n",
       "      <script>\n",
       "        const buttonEl =\n",
       "          document.querySelector('#df-bee9509f-571d-4e49-a610-ec59378fd8ce button.colab-df-convert');\n",
       "        buttonEl.style.display =\n",
       "          google.colab.kernel.accessAllowed ? 'block' : 'none';\n",
       "\n",
       "        async function convertToInteractive(key) {\n",
       "          const element = document.querySelector('#df-bee9509f-571d-4e49-a610-ec59378fd8ce');\n",
       "          const dataTable =\n",
       "            await google.colab.kernel.invokeFunction('convertToInteractive',\n",
       "                                                     [key], {});\n",
       "          if (!dataTable) return;\n",
       "\n",
       "          const docLinkHtml = 'Like what you see? Visit the ' +\n",
       "            '<a target=\"_blank\" href=https://colab.research.google.com/notebooks/data_table.ipynb>data table notebook</a>'\n",
       "            + ' to learn more about interactive tables.';\n",
       "          element.innerHTML = '';\n",
       "          dataTable['output_type'] = 'display_data';\n",
       "          await google.colab.output.renderOutput(dataTable, element);\n",
       "          const docLink = document.createElement('div');\n",
       "          docLink.innerHTML = docLinkHtml;\n",
       "          element.appendChild(docLink);\n",
       "        }\n",
       "      </script>\n",
       "    </div>\n",
       "  </div>\n",
       "  "
      ],
      "text/plain": [
       "                  Unique  Total\n",
       "id                 10000  10000\n",
       "user_name           3747  10000\n",
       "user_location       1712   8270\n",
       "user_description    3471   9377\n",
       "user_created        3754  10000\n",
       "user_followers      2824  10000\n",
       "user_friends        2130  10000\n",
       "user_favourites     3250  10000\n",
       "user_verified          2  10000\n",
       "date                9863  10000\n",
       "text                9983  10000\n",
       "hashtags            2640   5403\n",
       "source               135  10000\n",
       "retweets              96  10000\n",
       "favorites            158  10000\n",
       "is_retweet             1  10000\n",
       "Sentiment              2  10000"
      ]
     },
     "execution_count": 13,
     "metadata": {},
     "output_type": "execute_result"
    }
   ],
   "source": [
    "def unique_values(data):\n",
    "    unique=data.nunique()  \n",
    "    total=data.count()\n",
    "    uni=pd.concat([unique,total],axis=1,keys=['Unique','Total'])\n",
    "    return(uni)\n",
    "\n",
    "unique_values(df)"
   ]
  },
  {
   "cell_type": "markdown",
   "id": "fa24770e-3e04-4f04-931b-6e5ed4810d4a",
   "metadata": {
    "id": "fa24770e-3e04-4f04-931b-6e5ed4810d4a",
    "tags": []
   },
   "source": [
    "# Checking Missing Values"
   ]
  },
  {
   "cell_type": "code",
   "execution_count": null,
   "id": "7f82e225-a7bb-437b-a402-b75bad14256c",
   "metadata": {
    "colab": {
     "base_uri": "https://localhost:8080/"
    },
    "id": "7f82e225-a7bb-437b-a402-b75bad14256c",
    "outputId": "5b7c04f6-f6f0-4faa-a6af-d867d0a9a934"
   },
   "outputs": [
    {
     "data": {
      "text/plain": [
       "id                     0\n",
       "user_name              0\n",
       "user_location       1730\n",
       "user_description     623\n",
       "user_created           0\n",
       "user_followers         0\n",
       "user_friends           0\n",
       "user_favourites        0\n",
       "user_verified          0\n",
       "date                   0\n",
       "text                   0\n",
       "hashtags            4597\n",
       "source                 0\n",
       "retweets               0\n",
       "favorites              0\n",
       "is_retweet             0\n",
       "Sentiment              0\n",
       "dtype: int64"
      ]
     },
     "execution_count": 14,
     "metadata": {},
     "output_type": "execute_result"
    }
   ],
   "source": [
    "df.isnull().sum()"
   ]
  },
  {
   "cell_type": "code",
   "execution_count": null,
   "id": "28be19b8-d487-42bc-a01b-f2fb2e5b4890",
   "metadata": {
    "colab": {
     "base_uri": "https://localhost:8080/"
    },
    "id": "28be19b8-d487-42bc-a01b-f2fb2e5b4890",
    "outputId": "a279a3a3-300b-434b-b93e-6e7a2ea9cc3a"
   },
   "outputs": [
    {
     "data": {
      "text/plain": [
       "id                   0.00\n",
       "user_name            0.00\n",
       "user_location       17.30\n",
       "user_description     6.23\n",
       "user_created         0.00\n",
       "user_followers       0.00\n",
       "user_friends         0.00\n",
       "user_favourites      0.00\n",
       "user_verified        0.00\n",
       "date                 0.00\n",
       "text                 0.00\n",
       "hashtags            45.97\n",
       "source               0.00\n",
       "retweets             0.00\n",
       "favorites            0.00\n",
       "is_retweet           0.00\n",
       "Sentiment            0.00\n",
       "dtype: float64"
      ]
     },
     "execution_count": 15,
     "metadata": {},
     "output_type": "execute_result"
    }
   ],
   "source": [
    "df.isnull().mean()*100"
   ]
  },
  {
   "cell_type": "code",
   "execution_count": null,
   "id": "2794c682-a4da-49e8-b802-524efae8c7f6",
   "metadata": {
    "colab": {
     "base_uri": "https://localhost:8080/",
     "height": 582
    },
    "id": "2794c682-a4da-49e8-b802-524efae8c7f6",
    "outputId": "09bc8b27-a700-4057-a567-93a0ae231552"
   },
   "outputs": [
    {
     "data": {
      "text/html": [
       "\n",
       "  <div id=\"df-b08e6f53-d97b-4ac9-af5f-b740c3c8ce37\">\n",
       "    <div class=\"colab-df-container\">\n",
       "      <div>\n",
       "<style scoped>\n",
       "    .dataframe tbody tr th:only-of-type {\n",
       "        vertical-align: middle;\n",
       "    }\n",
       "\n",
       "    .dataframe tbody tr th {\n",
       "        vertical-align: top;\n",
       "    }\n",
       "\n",
       "    .dataframe thead th {\n",
       "        text-align: right;\n",
       "    }\n",
       "</style>\n",
       "<table border=\"1\" class=\"dataframe\">\n",
       "  <thead>\n",
       "    <tr style=\"text-align: right;\">\n",
       "      <th></th>\n",
       "      <th>Total</th>\n",
       "      <th>Percentage</th>\n",
       "    </tr>\n",
       "  </thead>\n",
       "  <tbody>\n",
       "    <tr>\n",
       "      <th>id</th>\n",
       "      <td>0</td>\n",
       "      <td>0.00</td>\n",
       "    </tr>\n",
       "    <tr>\n",
       "      <th>user_name</th>\n",
       "      <td>0</td>\n",
       "      <td>0.00</td>\n",
       "    </tr>\n",
       "    <tr>\n",
       "      <th>user_location</th>\n",
       "      <td>1730</td>\n",
       "      <td>17.30</td>\n",
       "    </tr>\n",
       "    <tr>\n",
       "      <th>user_description</th>\n",
       "      <td>623</td>\n",
       "      <td>6.23</td>\n",
       "    </tr>\n",
       "    <tr>\n",
       "      <th>user_created</th>\n",
       "      <td>0</td>\n",
       "      <td>0.00</td>\n",
       "    </tr>\n",
       "    <tr>\n",
       "      <th>user_followers</th>\n",
       "      <td>0</td>\n",
       "      <td>0.00</td>\n",
       "    </tr>\n",
       "    <tr>\n",
       "      <th>user_friends</th>\n",
       "      <td>0</td>\n",
       "      <td>0.00</td>\n",
       "    </tr>\n",
       "    <tr>\n",
       "      <th>user_favourites</th>\n",
       "      <td>0</td>\n",
       "      <td>0.00</td>\n",
       "    </tr>\n",
       "    <tr>\n",
       "      <th>user_verified</th>\n",
       "      <td>0</td>\n",
       "      <td>0.00</td>\n",
       "    </tr>\n",
       "    <tr>\n",
       "      <th>date</th>\n",
       "      <td>0</td>\n",
       "      <td>0.00</td>\n",
       "    </tr>\n",
       "    <tr>\n",
       "      <th>text</th>\n",
       "      <td>0</td>\n",
       "      <td>0.00</td>\n",
       "    </tr>\n",
       "    <tr>\n",
       "      <th>hashtags</th>\n",
       "      <td>4597</td>\n",
       "      <td>45.97</td>\n",
       "    </tr>\n",
       "    <tr>\n",
       "      <th>source</th>\n",
       "      <td>0</td>\n",
       "      <td>0.00</td>\n",
       "    </tr>\n",
       "    <tr>\n",
       "      <th>retweets</th>\n",
       "      <td>0</td>\n",
       "      <td>0.00</td>\n",
       "    </tr>\n",
       "    <tr>\n",
       "      <th>favorites</th>\n",
       "      <td>0</td>\n",
       "      <td>0.00</td>\n",
       "    </tr>\n",
       "    <tr>\n",
       "      <th>is_retweet</th>\n",
       "      <td>0</td>\n",
       "      <td>0.00</td>\n",
       "    </tr>\n",
       "    <tr>\n",
       "      <th>Sentiment</th>\n",
       "      <td>0</td>\n",
       "      <td>0.00</td>\n",
       "    </tr>\n",
       "  </tbody>\n",
       "</table>\n",
       "</div>\n",
       "      <button class=\"colab-df-convert\" onclick=\"convertToInteractive('df-b08e6f53-d97b-4ac9-af5f-b740c3c8ce37')\"\n",
       "              title=\"Convert this dataframe to an interactive table.\"\n",
       "              style=\"display:none;\">\n",
       "        \n",
       "  <svg xmlns=\"http://www.w3.org/2000/svg\" height=\"24px\"viewBox=\"0 0 24 24\"\n",
       "       width=\"24px\">\n",
       "    <path d=\"M0 0h24v24H0V0z\" fill=\"none\"/>\n",
       "    <path d=\"M18.56 5.44l.94 2.06.94-2.06 2.06-.94-2.06-.94-.94-2.06-.94 2.06-2.06.94zm-11 1L8.5 8.5l.94-2.06 2.06-.94-2.06-.94L8.5 2.5l-.94 2.06-2.06.94zm10 10l.94 2.06.94-2.06 2.06-.94-2.06-.94-.94-2.06-.94 2.06-2.06.94z\"/><path d=\"M17.41 7.96l-1.37-1.37c-.4-.4-.92-.59-1.43-.59-.52 0-1.04.2-1.43.59L10.3 9.45l-7.72 7.72c-.78.78-.78 2.05 0 2.83L4 21.41c.39.39.9.59 1.41.59.51 0 1.02-.2 1.41-.59l7.78-7.78 2.81-2.81c.8-.78.8-2.07 0-2.86zM5.41 20L4 18.59l7.72-7.72 1.47 1.35L5.41 20z\"/>\n",
       "  </svg>\n",
       "      </button>\n",
       "      \n",
       "  <style>\n",
       "    .colab-df-container {\n",
       "      display:flex;\n",
       "      flex-wrap:wrap;\n",
       "      gap: 12px;\n",
       "    }\n",
       "\n",
       "    .colab-df-convert {\n",
       "      background-color: #E8F0FE;\n",
       "      border: none;\n",
       "      border-radius: 50%;\n",
       "      cursor: pointer;\n",
       "      display: none;\n",
       "      fill: #1967D2;\n",
       "      height: 32px;\n",
       "      padding: 0 0 0 0;\n",
       "      width: 32px;\n",
       "    }\n",
       "\n",
       "    .colab-df-convert:hover {\n",
       "      background-color: #E2EBFA;\n",
       "      box-shadow: 0px 1px 2px rgba(60, 64, 67, 0.3), 0px 1px 3px 1px rgba(60, 64, 67, 0.15);\n",
       "      fill: #174EA6;\n",
       "    }\n",
       "\n",
       "    [theme=dark] .colab-df-convert {\n",
       "      background-color: #3B4455;\n",
       "      fill: #D2E3FC;\n",
       "    }\n",
       "\n",
       "    [theme=dark] .colab-df-convert:hover {\n",
       "      background-color: #434B5C;\n",
       "      box-shadow: 0px 1px 3px 1px rgba(0, 0, 0, 0.15);\n",
       "      filter: drop-shadow(0px 1px 2px rgba(0, 0, 0, 0.3));\n",
       "      fill: #FFFFFF;\n",
       "    }\n",
       "  </style>\n",
       "\n",
       "      <script>\n",
       "        const buttonEl =\n",
       "          document.querySelector('#df-b08e6f53-d97b-4ac9-af5f-b740c3c8ce37 button.colab-df-convert');\n",
       "        buttonEl.style.display =\n",
       "          google.colab.kernel.accessAllowed ? 'block' : 'none';\n",
       "\n",
       "        async function convertToInteractive(key) {\n",
       "          const element = document.querySelector('#df-b08e6f53-d97b-4ac9-af5f-b740c3c8ce37');\n",
       "          const dataTable =\n",
       "            await google.colab.kernel.invokeFunction('convertToInteractive',\n",
       "                                                     [key], {});\n",
       "          if (!dataTable) return;\n",
       "\n",
       "          const docLinkHtml = 'Like what you see? Visit the ' +\n",
       "            '<a target=\"_blank\" href=https://colab.research.google.com/notebooks/data_table.ipynb>data table notebook</a>'\n",
       "            + ' to learn more about interactive tables.';\n",
       "          element.innerHTML = '';\n",
       "          dataTable['output_type'] = 'display_data';\n",
       "          await google.colab.output.renderOutput(dataTable, element);\n",
       "          const docLink = document.createElement('div');\n",
       "          docLink.innerHTML = docLinkHtml;\n",
       "          element.appendChild(docLink);\n",
       "        }\n",
       "      </script>\n",
       "    </div>\n",
       "  </div>\n",
       "  "
      ],
      "text/plain": [
       "                  Total  Percentage\n",
       "id                    0        0.00\n",
       "user_name             0        0.00\n",
       "user_location      1730       17.30\n",
       "user_description    623        6.23\n",
       "user_created          0        0.00\n",
       "user_followers        0        0.00\n",
       "user_friends          0        0.00\n",
       "user_favourites       0        0.00\n",
       "user_verified         0        0.00\n",
       "date                  0        0.00\n",
       "text                  0        0.00\n",
       "hashtags           4597       45.97\n",
       "source                0        0.00\n",
       "retweets              0        0.00\n",
       "favorites             0        0.00\n",
       "is_retweet            0        0.00\n",
       "Sentiment             0        0.00"
      ]
     },
     "execution_count": 16,
     "metadata": {},
     "output_type": "execute_result"
    }
   ],
   "source": [
    "def missing_data(data):\n",
    "    total=df.isnull().sum()\n",
    "    percentage=df.isnull().mean()*100\n",
    "    tt=pd.concat([total,percentage],axis=1,keys=['Total','Percentage'])\n",
    "    return(tt)\n",
    "\n",
    "missing_data(df)"
   ]
  },
  {
   "cell_type": "markdown",
   "id": "c3b17f6d-17a6-459f-8437-d9188ffe0b60",
   "metadata": {
    "id": "c3b17f6d-17a6-459f-8437-d9188ffe0b60",
    "tags": []
   },
   "source": [
    "# Most Frequent Values"
   ]
  },
  {
   "cell_type": "code",
   "execution_count": null,
   "id": "08b1803c-29a8-4c2d-b015-4721678dd65c",
   "metadata": {
    "colab": {
     "base_uri": "https://localhost:8080/",
     "height": 582
    },
    "id": "08b1803c-29a8-4c2d-b015-4721678dd65c",
    "outputId": "c9e04139-2b62-498d-9633-91e9c5bcf94a"
   },
   "outputs": [
    {
     "data": {
      "text/html": [
       "\n",
       "  <div id=\"df-be7f6a98-dee2-4818-bfbf-67215adfe7ea\">\n",
       "    <div class=\"colab-df-container\">\n",
       "      <div>\n",
       "<style scoped>\n",
       "    .dataframe tbody tr th:only-of-type {\n",
       "        vertical-align: middle;\n",
       "    }\n",
       "\n",
       "    .dataframe tbody tr th {\n",
       "        vertical-align: top;\n",
       "    }\n",
       "\n",
       "    .dataframe thead th {\n",
       "        text-align: right;\n",
       "    }\n",
       "</style>\n",
       "<table border=\"1\" class=\"dataframe\">\n",
       "  <thead>\n",
       "    <tr style=\"text-align: right;\">\n",
       "      <th></th>\n",
       "      <th>Total</th>\n",
       "      <th>Most Frequent Item</th>\n",
       "      <th>Frequency</th>\n",
       "      <th>Percentage from total</th>\n",
       "    </tr>\n",
       "  </thead>\n",
       "  <tbody>\n",
       "    <tr>\n",
       "      <th>id</th>\n",
       "      <td>10000</td>\n",
       "      <td>1491840066506743820</td>\n",
       "      <td>1</td>\n",
       "      <td>0.010</td>\n",
       "    </tr>\n",
       "    <tr>\n",
       "      <th>user_name</th>\n",
       "      <td>10000</td>\n",
       "      <td>Nathan Joyner</td>\n",
       "      <td>2429</td>\n",
       "      <td>24.290</td>\n",
       "    </tr>\n",
       "    <tr>\n",
       "      <th>user_location</th>\n",
       "      <td>8270</td>\n",
       "      <td>Los Angeles, CA</td>\n",
       "      <td>2443</td>\n",
       "      <td>29.541</td>\n",
       "    </tr>\n",
       "    <tr>\n",
       "      <th>user_description</th>\n",
       "      <td>9377</td>\n",
       "      <td>Global Venture Captial and Private Equity/Busi...</td>\n",
       "      <td>2429</td>\n",
       "      <td>25.904</td>\n",
       "    </tr>\n",
       "    <tr>\n",
       "      <th>user_created</th>\n",
       "      <td>10000</td>\n",
       "      <td>2015-05-18 20:52:29</td>\n",
       "      <td>2429</td>\n",
       "      <td>24.290</td>\n",
       "    </tr>\n",
       "    <tr>\n",
       "      <th>user_followers</th>\n",
       "      <td>10000</td>\n",
       "      <td>56</td>\n",
       "      <td>1290</td>\n",
       "      <td>12.900</td>\n",
       "    </tr>\n",
       "    <tr>\n",
       "      <th>user_friends</th>\n",
       "      <td>10000</td>\n",
       "      <td>11</td>\n",
       "      <td>2438</td>\n",
       "      <td>24.380</td>\n",
       "    </tr>\n",
       "    <tr>\n",
       "      <th>user_favourites</th>\n",
       "      <td>10000</td>\n",
       "      <td>816</td>\n",
       "      <td>779</td>\n",
       "      <td>7.790</td>\n",
       "    </tr>\n",
       "    <tr>\n",
       "      <th>user_verified</th>\n",
       "      <td>10000</td>\n",
       "      <td>False</td>\n",
       "      <td>8946</td>\n",
       "      <td>89.460</td>\n",
       "    </tr>\n",
       "    <tr>\n",
       "      <th>date</th>\n",
       "      <td>10000</td>\n",
       "      <td>2022-02-09 13:00:17</td>\n",
       "      <td>4</td>\n",
       "      <td>0.040</td>\n",
       "    </tr>\n",
       "    <tr>\n",
       "      <th>text</th>\n",
       "      <td>10000</td>\n",
       "      <td>Very strong evidence, can there be any rebutta...</td>\n",
       "      <td>10</td>\n",
       "      <td>0.100</td>\n",
       "    </tr>\n",
       "    <tr>\n",
       "      <th>hashtags</th>\n",
       "      <td>5403</td>\n",
       "      <td>['Omicron']</td>\n",
       "      <td>903</td>\n",
       "      <td>16.713</td>\n",
       "    </tr>\n",
       "    <tr>\n",
       "      <th>source</th>\n",
       "      <td>10000</td>\n",
       "      <td>Twitter Web App</td>\n",
       "      <td>3749</td>\n",
       "      <td>37.490</td>\n",
       "    </tr>\n",
       "    <tr>\n",
       "      <th>retweets</th>\n",
       "      <td>10000</td>\n",
       "      <td>0</td>\n",
       "      <td>5537</td>\n",
       "      <td>55.370</td>\n",
       "    </tr>\n",
       "    <tr>\n",
       "      <th>favorites</th>\n",
       "      <td>10000</td>\n",
       "      <td>0</td>\n",
       "      <td>4452</td>\n",
       "      <td>44.520</td>\n",
       "    </tr>\n",
       "    <tr>\n",
       "      <th>is_retweet</th>\n",
       "      <td>10000</td>\n",
       "      <td>False</td>\n",
       "      <td>10000</td>\n",
       "      <td>100.000</td>\n",
       "    </tr>\n",
       "    <tr>\n",
       "      <th>Sentiment</th>\n",
       "      <td>10000</td>\n",
       "      <td>Positive</td>\n",
       "      <td>7793</td>\n",
       "      <td>77.930</td>\n",
       "    </tr>\n",
       "  </tbody>\n",
       "</table>\n",
       "</div>\n",
       "      <button class=\"colab-df-convert\" onclick=\"convertToInteractive('df-be7f6a98-dee2-4818-bfbf-67215adfe7ea')\"\n",
       "              title=\"Convert this dataframe to an interactive table.\"\n",
       "              style=\"display:none;\">\n",
       "        \n",
       "  <svg xmlns=\"http://www.w3.org/2000/svg\" height=\"24px\"viewBox=\"0 0 24 24\"\n",
       "       width=\"24px\">\n",
       "    <path d=\"M0 0h24v24H0V0z\" fill=\"none\"/>\n",
       "    <path d=\"M18.56 5.44l.94 2.06.94-2.06 2.06-.94-2.06-.94-.94-2.06-.94 2.06-2.06.94zm-11 1L8.5 8.5l.94-2.06 2.06-.94-2.06-.94L8.5 2.5l-.94 2.06-2.06.94zm10 10l.94 2.06.94-2.06 2.06-.94-2.06-.94-.94-2.06-.94 2.06-2.06.94z\"/><path d=\"M17.41 7.96l-1.37-1.37c-.4-.4-.92-.59-1.43-.59-.52 0-1.04.2-1.43.59L10.3 9.45l-7.72 7.72c-.78.78-.78 2.05 0 2.83L4 21.41c.39.39.9.59 1.41.59.51 0 1.02-.2 1.41-.59l7.78-7.78 2.81-2.81c.8-.78.8-2.07 0-2.86zM5.41 20L4 18.59l7.72-7.72 1.47 1.35L5.41 20z\"/>\n",
       "  </svg>\n",
       "      </button>\n",
       "      \n",
       "  <style>\n",
       "    .colab-df-container {\n",
       "      display:flex;\n",
       "      flex-wrap:wrap;\n",
       "      gap: 12px;\n",
       "    }\n",
       "\n",
       "    .colab-df-convert {\n",
       "      background-color: #E8F0FE;\n",
       "      border: none;\n",
       "      border-radius: 50%;\n",
       "      cursor: pointer;\n",
       "      display: none;\n",
       "      fill: #1967D2;\n",
       "      height: 32px;\n",
       "      padding: 0 0 0 0;\n",
       "      width: 32px;\n",
       "    }\n",
       "\n",
       "    .colab-df-convert:hover {\n",
       "      background-color: #E2EBFA;\n",
       "      box-shadow: 0px 1px 2px rgba(60, 64, 67, 0.3), 0px 1px 3px 1px rgba(60, 64, 67, 0.15);\n",
       "      fill: #174EA6;\n",
       "    }\n",
       "\n",
       "    [theme=dark] .colab-df-convert {\n",
       "      background-color: #3B4455;\n",
       "      fill: #D2E3FC;\n",
       "    }\n",
       "\n",
       "    [theme=dark] .colab-df-convert:hover {\n",
       "      background-color: #434B5C;\n",
       "      box-shadow: 0px 1px 3px 1px rgba(0, 0, 0, 0.15);\n",
       "      filter: drop-shadow(0px 1px 2px rgba(0, 0, 0, 0.3));\n",
       "      fill: #FFFFFF;\n",
       "    }\n",
       "  </style>\n",
       "\n",
       "      <script>\n",
       "        const buttonEl =\n",
       "          document.querySelector('#df-be7f6a98-dee2-4818-bfbf-67215adfe7ea button.colab-df-convert');\n",
       "        buttonEl.style.display =\n",
       "          google.colab.kernel.accessAllowed ? 'block' : 'none';\n",
       "\n",
       "        async function convertToInteractive(key) {\n",
       "          const element = document.querySelector('#df-be7f6a98-dee2-4818-bfbf-67215adfe7ea');\n",
       "          const dataTable =\n",
       "            await google.colab.kernel.invokeFunction('convertToInteractive',\n",
       "                                                     [key], {});\n",
       "          if (!dataTable) return;\n",
       "\n",
       "          const docLinkHtml = 'Like what you see? Visit the ' +\n",
       "            '<a target=\"_blank\" href=https://colab.research.google.com/notebooks/data_table.ipynb>data table notebook</a>'\n",
       "            + ' to learn more about interactive tables.';\n",
       "          element.innerHTML = '';\n",
       "          dataTable['output_type'] = 'display_data';\n",
       "          await google.colab.output.renderOutput(dataTable, element);\n",
       "          const docLink = document.createElement('div');\n",
       "          docLink.innerHTML = docLinkHtml;\n",
       "          element.appendChild(docLink);\n",
       "        }\n",
       "      </script>\n",
       "    </div>\n",
       "  </div>\n",
       "  "
      ],
      "text/plain": [
       "                  Total                                 Most Frequent Item  \\\n",
       "id                10000                                1491840066506743820   \n",
       "user_name         10000                                      Nathan Joyner   \n",
       "user_location      8270                                    Los Angeles, CA   \n",
       "user_description   9377  Global Venture Captial and Private Equity/Busi...   \n",
       "user_created      10000                                2015-05-18 20:52:29   \n",
       "user_followers    10000                                                 56   \n",
       "user_friends      10000                                                 11   \n",
       "user_favourites   10000                                                816   \n",
       "user_verified     10000                                              False   \n",
       "date              10000                                2022-02-09 13:00:17   \n",
       "text              10000  Very strong evidence, can there be any rebutta...   \n",
       "hashtags           5403                                        ['Omicron']   \n",
       "source            10000                                    Twitter Web App   \n",
       "retweets          10000                                                  0   \n",
       "favorites         10000                                                  0   \n",
       "is_retweet        10000                                              False   \n",
       "Sentiment         10000                                           Positive   \n",
       "\n",
       "                  Frequency  Percentage from total  \n",
       "id                        1                  0.010  \n",
       "user_name              2429                 24.290  \n",
       "user_location          2443                 29.541  \n",
       "user_description       2429                 25.904  \n",
       "user_created           2429                 24.290  \n",
       "user_followers         1290                 12.900  \n",
       "user_friends           2438                 24.380  \n",
       "user_favourites         779                  7.790  \n",
       "user_verified          8946                 89.460  \n",
       "date                      4                  0.040  \n",
       "text                     10                  0.100  \n",
       "hashtags                903                 16.713  \n",
       "source                 3749                 37.490  \n",
       "retweets               5537                 55.370  \n",
       "favorites              4452                 44.520  \n",
       "is_retweet            10000                100.000  \n",
       "Sentiment              7793                 77.930  "
      ]
     },
     "execution_count": 17,
     "metadata": {},
     "output_type": "execute_result"
    }
   ],
   "source": [
    "def most_frequent_values(data):\n",
    "    total=data.count()\n",
    "    mfv=pd.DataFrame(total)\n",
    "    mfv.columns=['Total']\n",
    "    items=[]\n",
    "    vals=[]\n",
    "    for col in data.columns:\n",
    "        item=data[col].value_counts().index[0]\n",
    "        val=data[col].value_counts().values[0]\n",
    "      \n",
    "        items.append(item)\n",
    "        vals.append(val)\n",
    "    mfv['Most Frequent Item']=items\n",
    "    mfv['Frequency']=vals\n",
    "    mfv['Percentage from total']=np.round(vals/total*100,3)\n",
    "    \n",
    "    return(mfv)\n",
    "    \n",
    "most_frequent_values(df)"
   ]
  },
  {
   "cell_type": "markdown",
   "id": "dc050d02-756a-4fc2-afd4-fa2d4f5c56ef",
   "metadata": {
    "id": "dc050d02-756a-4fc2-afd4-fa2d4f5c56ef"
   },
   "source": [
    "# EDA---Exploded Data Analysis"
   ]
  },
  {
   "cell_type": "code",
   "execution_count": null,
   "id": "01bcc181-e591-4330-a20c-06f5f03c3c88",
   "metadata": {
    "colab": {
     "base_uri": "https://localhost:8080/"
    },
    "id": "01bcc181-e591-4330-a20c-06f5f03c3c88",
    "outputId": "b72497e5-2206-4241-a51d-5b8549e41f11"
   },
   "outputs": [
    {
     "name": "stdout",
     "output_type": "stream",
     "text": [
      "Sentiment\n",
      "['Positive' 'Negative']\n",
      "---------------\n",
      "user_verified\n",
      "[False  True]\n",
      "---------------\n",
      "is_retweet\n",
      "[False]\n",
      "---------------\n",
      "hashtags\n",
      "[nan \"['CDC', 'vaccinated', 'Omicron', 'hospital']\"\n",
      " \"['Beijing2022', 'WinterOlympics', 'olympians', 'security']\" ...\n",
      " \"['omicron', 'HerdImmunity']\"\n",
      " \"['pfizer', 'Omicron', 'Vaccine', 'Fraud', 'VaccineSideEffects']\"\n",
      " \"['hindsight', 'Omicron']\"]\n",
      "---------------\n",
      "source\n",
      "['smcapplication' 'Twitter Web App' 'Agorapulse app' 'Twitter for iPhone'\n",
      " 'Twitter for Android' 'Paper.li' 'Hootsuite Inc.' 'LaterMedia' 'Buffer'\n",
      " 'WordPress.com' 'Sprinklr' 'Echobox' 'Sprout Social' 'Twitter for iPad'\n",
      " 'TweetDeck' 'The Social Jukebox' 'Twitter for Mac' 'HubSpot' 'Instagram'\n",
      " 'HeyOrca' 'Salesforce - Social Studio' 'Twitter for Advertisers.'\n",
      " 'Intelligent Transport' 'News Medical' 'IFTTT' 'dlvr.it'\n",
      " 'Tweetbot for iΟS' 'AIT News' 'Science X Status Updates' 'La Vie Zine'\n",
      " 'LinkedIn' 'nertiqatja' 'Twitter Media Studio - LiveCut'\n",
      " 'Microsoft Power Platform' 'IndiaPost' 'Zoho Social' 'Talon Android'\n",
      " 'ETRetail.com' 'National Herald' 'Canva' 'GETTR-Sync-Production'\n",
      " 'Ohhtweet' 'Grabyo' 'Emplifi' 'Periscope' 'Blog2Social APP'\n",
      " 'Twitter Media Studio' 'SmarterQueue' 'Raven Tools' 'GoDaddy Social App'\n",
      " 'Crowdfire App' 'AutoLuisAlejoVega' 'Zapier.com' 'Healio Twitter'\n",
      " 'News Aggregator - Rote Pille' 'FaskoBot' 'Seismic LiveSocial' 'Sendible'\n",
      " 'ContentCal Studio' 'Twitter for Advertisers' 'The Global Herald'\n",
      " 'Falcon Social Media Management ' 'eClincher' 'Qnary.io' 'StockTwits Web'\n",
      " 'newsgovhk' 'Meltwater Social' 'ANews Twitter' 'Khoros Publishing'\n",
      " 'UberSocial for Android' 'Hocalwire Social Share' 'SocialPilot.co'\n",
      " 'WPwamnwebsitescript' 'WP to Twitter IAR' 'Newsoneplace To Twitter'\n",
      " 'PaliTwitterBot' 'FenixApp' 'RWRapplication' 'Article Tweetbot'\n",
      " 'Semrush Social Media Tool' 'Tweetbot for Mac' 'Twittimer'\n",
      " 'Revive Social App' 'Spreaker' 'Twidere for Android' 'TweetGenForDarren'\n",
      " 'CoSchedule' 'euromimi' 'Sprinklr Publishing' 'Facelift-Cloud'\n",
      " 'Kontentino' 'Powered by Sprinklr' 'Orlo' 'thelevantnews'\n",
      " 'Reddit Official' 'Oneindia News Eng' 'TweetDeck Web App'\n",
      " 'SocialChamp IO ' 'VaccinationTracking' 'Social Lines' 'Integromat'\n",
      " 'IdeallyaNews v 2' 'Fenix 2' 'FS-Poster APP' 'EUobserver' 'Oktopost'\n",
      " 'iNVEZZ' 'SocialNewsDesk' 'SocialFlow' 'News Observatory'\n",
      " 'Business Upturn' 'Smarp.' 'Hash#trends' 'recurpost.com' 'PLANOLY'\n",
      " 'NayeNews' 'clover-incinerator.com' 'Twitterrific for iOS' 'legitgist'\n",
      " 'ContentStudio.io' 'Missinglettr' 'Vastuullisuusuutiset2' 'SocialGest'\n",
      " 'PostBeyond' 'AnyPoll Links' 'Bambu by Sprout Social'\n",
      " 'App for IconicHipster.com' 'Scoop.it' 'True Anthem' 'Twitter Test App P'\n",
      " 'Tumblr' 'Bot Libre!' 'Linky for iOS' 'Loomly' 'SocialFlow app']\n",
      "---------------\n",
      "user_name\n",
      "['Nathan Joyner' 'Gatherer Thompson' 'Brownyard Group' ...\n",
      " '크리스 Christopher Rucinski' 'ColoradoSPH' 'Liz Parrish MBA']\n",
      "---------------\n",
      "user_location\n",
      "['Los Angeles, CA' 'Corporate' 'Bay Shore, NY' ... 'Cincinnati, OH'\n",
      " 'Another Day in Paradise' 'San Jose, CA']\n",
      "---------------\n"
     ]
    }
   ],
   "source": [
    "colm=['Sentiment', 'user_verified','is_retweet','hashtags','source','user_name', 'user_location']\n",
    "for col in colm:\n",
    "    print(col)\n",
    "    print(df[col].unique())\n",
    "    print('---------------')"
   ]
  },
  {
   "cell_type": "code",
   "execution_count": null,
   "id": "6949e544-ddb5-43b1-97d1-fdef9f48a8d5",
   "metadata": {
    "colab": {
     "base_uri": "https://localhost:8080/"
    },
    "id": "6949e544-ddb5-43b1-97d1-fdef9f48a8d5",
    "outputId": "0189e13e-ab39-4b2c-d9ec-37af764f6e55"
   },
   "outputs": [
    {
     "name": "stdout",
     "output_type": "stream",
     "text": [
      "Sentiment\n",
      "Positive    7793\n",
      "Negative    2207\n",
      "Name: Sentiment, dtype: int64\n",
      "----------------\n",
      " \n",
      "user_verified\n",
      "False    8946\n",
      "True     1054\n",
      "Name: user_verified, dtype: int64\n",
      "----------------\n",
      " \n",
      "is_retweet\n",
      "False    10000\n",
      "Name: is_retweet, dtype: int64\n",
      "----------------\n",
      " \n",
      "hashtags\n",
      "['Omicron']                            903\n",
      "['COVID19', 'Omicron']                 213\n",
      "['omicron']                            190\n",
      "['COVID19']                            141\n",
      "['OMICRON']                             77\n",
      "                                      ... \n",
      "['Omicron', 'UNICEF']                    1\n",
      "['omicron', 'hongkong']                  1\n",
      "['COVID', 'Japan']                       1\n",
      "['Covid19', 'Omicron', 'Mauritius']      1\n",
      "['hindsight', 'Omicron']                 1\n",
      "Name: hashtags, Length: 2640, dtype: int64\n",
      "----------------\n",
      " \n",
      "source\n",
      "Twitter Web App        3749\n",
      "smcapplication         2429\n",
      "Twitter for iPhone     1084\n",
      "Twitter for Android    1070\n",
      "TweetDeck               363\n",
      "                       ... \n",
      "Raven Tools               1\n",
      "SmarterQueue              1\n",
      "Periscope                 1\n",
      "EUobserver                1\n",
      "SocialFlow app            1\n",
      "Name: source, Length: 135, dtype: int64\n",
      "----------------\n",
      " \n",
      "user_name\n",
      "Nathan Joyner                      2429\n",
      "Lisa Marie Meadows                  112\n",
      "Newsonline                          106\n",
      "save DEMOCRACY                      105\n",
      "bron druider                         91\n",
      "                                   ... \n",
      "Amity University Lucknow Campus       1\n",
      "Tyson D.                              1\n",
      "Dr Ahmed Kalebi, 𝗢𝗚𝗪                  1\n",
      "Stephen Yolland                       1\n",
      "Liz Parrish MBA                       1\n",
      "Name: user_name, Length: 3747, dtype: int64\n",
      "----------------\n",
      " \n",
      "user_location\n",
      "Los Angeles, CA    2443\n",
      "India               256\n",
      "United States       150\n",
      "USA                 124\n",
      "Chandigarh          108\n",
      "                   ... \n",
      "Mansfield, TX         1\n",
      "Alberta               1\n",
      "TX                    1\n",
      "San Nicolás, NL       1\n",
      "San Jose, CA          1\n",
      "Name: user_location, Length: 1712, dtype: int64\n",
      "----------------\n",
      " \n"
     ]
    }
   ],
   "source": [
    "for col in colm:\n",
    "    print(col)\n",
    "    print(df[col].value_counts())\n",
    "    print('----------------')\n",
    "    print(' ')"
   ]
  },
  {
   "cell_type": "code",
   "execution_count": null,
   "id": "3a13e670-1f77-454a-8e8d-58155bb5e037",
   "metadata": {
    "colab": {
     "base_uri": "https://localhost:8080/"
    },
    "id": "3a13e670-1f77-454a-8e8d-58155bb5e037",
    "outputId": "c2c4bbf3-fb8a-41b2-81ae-7c5a39cf3db5"
   },
   "outputs": [
    {
     "data": {
      "text/plain": [
       "Positive    0.7793\n",
       "Negative    0.2207\n",
       "Name: Sentiment, dtype: float64"
      ]
     },
     "execution_count": 20,
     "metadata": {},
     "output_type": "execute_result"
    }
   ],
   "source": [
    "# percentage of each sentiment\n",
    "\n",
    "df['Sentiment'].value_counts(normalize=True)"
   ]
  },
  {
   "cell_type": "code",
   "execution_count": null,
   "id": "059033e8-70e1-430e-80d2-0a78e6624b31",
   "metadata": {
    "colab": {
     "base_uri": "https://localhost:8080/"
    },
    "id": "059033e8-70e1-430e-80d2-0a78e6624b31",
    "outputId": "383f73f4-2f2f-471a-a78b-9d57b9fe3a35"
   },
   "outputs": [
    {
     "data": {
      "text/plain": [
       "Los Angeles, CA                 2443\n",
       "India                            256\n",
       "United States                    150\n",
       "USA                              124\n",
       "Chandigarh                       108\n",
       "New York City, New York, USA      91\n",
       "In Your Mind Now                  87\n",
       "Canada                            86\n",
       "Hong Kong                         62\n",
       "Philippines                       62\n",
       "Name: user_location, dtype: int64"
      ]
     },
     "execution_count": 21,
     "metadata": {},
     "output_type": "execute_result"
    }
   ],
   "source": [
    "# Top 10 user location\n",
    "\n",
    "df['user_location'].value_counts()[:10]"
   ]
  },
  {
   "cell_type": "code",
   "execution_count": null,
   "id": "3b68f8c8-0a90-449b-8a42-0f900fca78f2",
   "metadata": {
    "colab": {
     "base_uri": "https://localhost:8080/",
     "height": 35
    },
    "id": "3b68f8c8-0a90-449b-8a42-0f900fca78f2",
    "outputId": "f5f9ca33-667c-4813-948b-076831add42a"
   },
   "outputs": [
    {
     "data": {
      "application/vnd.google.colaboratory.intrinsic+json": {
       "type": "string"
      },
      "text/plain": [
       "'2022-02-10 18:21:06'"
      ]
     },
     "execution_count": 22,
     "metadata": {},
     "output_type": "execute_result"
    }
   ],
   "source": [
    "# Date column contain both date and time\n",
    "df['date'][1]"
   ]
  },
  {
   "cell_type": "code",
   "execution_count": null,
   "id": "b627779c-c455-46d6-8f38-02613e1101d0",
   "metadata": {
    "colab": {
     "base_uri": "https://localhost:8080/",
     "height": 35
    },
    "id": "b627779c-c455-46d6-8f38-02613e1101d0",
    "outputId": "528a153c-7fb3-48da-d608-d81b671ddae2"
   },
   "outputs": [
    {
     "data": {
      "application/vnd.google.colaboratory.intrinsic+json": {
       "type": "string"
      },
      "text/plain": [
       "'2022-02-09'"
      ]
     },
     "execution_count": 23,
     "metadata": {},
     "output_type": "execute_result"
    }
   ],
   "source": [
    "# Minimum Date in Dataset\n",
    "df['date'].min()[0:10]"
   ]
  },
  {
   "cell_type": "code",
   "execution_count": null,
   "id": "a7b90bc4-c053-462d-991e-bc49c958923c",
   "metadata": {
    "colab": {
     "base_uri": "https://localhost:8080/",
     "height": 35
    },
    "id": "a7b90bc4-c053-462d-991e-bc49c958923c",
    "outputId": "41952834-7647-4ac4-9488-601dd014b32a"
   },
   "outputs": [
    {
     "data": {
      "application/vnd.google.colaboratory.intrinsic+json": {
       "type": "string"
      },
      "text/plain": [
       "'2022-02-19'"
      ]
     },
     "execution_count": 24,
     "metadata": {},
     "output_type": "execute_result"
    }
   ],
   "source": [
    "# Maximum Date in Dataset\n",
    "df['date'].max()[0:10]"
   ]
  },
  {
   "cell_type": "code",
   "execution_count": null,
   "id": "7b02264b-6ed3-4879-9e8d-9b847688e4ce",
   "metadata": {
    "colab": {
     "base_uri": "https://localhost:8080/",
     "height": 35
    },
    "id": "7b02264b-6ed3-4879-9e8d-9b847688e4ce",
    "outputId": "434c2a4a-c052-4079-a7cb-ee58c653f8fa"
   },
   "outputs": [
    {
     "data": {
      "application/vnd.google.colaboratory.intrinsic+json": {
       "type": "string"
      },
      "text/plain": [
       "'02:31:37'"
      ]
     },
     "execution_count": 25,
     "metadata": {},
     "output_type": "execute_result"
    }
   ],
   "source": [
    "# Minimum Time in Dataset\n",
    "df['date'].min()[11:]"
   ]
  },
  {
   "cell_type": "code",
   "execution_count": null,
   "id": "e1cb7d05-9227-42c8-90ee-bdaa0b93f98f",
   "metadata": {
    "colab": {
     "base_uri": "https://localhost:8080/",
     "height": 35
    },
    "id": "e1cb7d05-9227-42c8-90ee-bdaa0b93f98f",
    "outputId": "715444f3-0e9d-495e-de68-bbe1b5893605"
   },
   "outputs": [
    {
     "data": {
      "application/vnd.google.colaboratory.intrinsic+json": {
       "type": "string"
      },
      "text/plain": [
       "'08:12:02'"
      ]
     },
     "execution_count": 26,
     "metadata": {},
     "output_type": "execute_result"
    }
   ],
   "source": [
    "# Maximum Time in Dataset\n",
    "df['date'].max()[11:]"
   ]
  },
  {
   "cell_type": "markdown",
   "id": "994f43cb-dac6-4e3e-bfdb-832eddc8ff76",
   "metadata": {
    "id": "994f43cb-dac6-4e3e-bfdb-832eddc8ff76"
   },
   "source": [
    "# Visualization"
   ]
  },
  {
   "cell_type": "code",
   "execution_count": null,
   "id": "46bb9427-887f-4855-95f1-4a019dabc212",
   "metadata": {
    "colab": {
     "base_uri": "https://localhost:8080/",
     "height": 587
    },
    "id": "46bb9427-887f-4855-95f1-4a019dabc212",
    "outputId": "711a5333-9f39-406e-9828-62da17faca4d"
   },
   "outputs": [
    {
     "data": {
      "text/plain": [
       "Text(0.5, 1.0, 'Corelation Heatmap')"
      ]
     },
     "execution_count": 27,
     "metadata": {},
     "output_type": "execute_result"
    },
    {
     "data": {
      "image/png": "[encoded data removed]",
      "text/plain": [
       "<Figure size 576x576 with 2 Axes>"
      ]
     },
     "metadata": {
      "needs_background": "light"
     },
     "output_type": "display_data"
    }
   ],
   "source": [
    "plt.figure(figsize=(8,8))\n",
    "_=sns.heatmap(df.corr(),annot=True,cmap=\"BuPu\")\n",
    "plt.title('Corelation Heatmap',size='xx-large')"
   ]
  },
  {
   "cell_type": "raw",
   "id": "37d1c60c-7c87-48de-aa96-255a37306cc2",
   "metadata": {
    "id": "37d1c60c-7c87-48de-aa96-255a37306cc2"
   },
   "source": [
    "Retweets & Favourite column are highy corelated"
   ]
  },
  {
   "cell_type": "code",
   "execution_count": null,
   "id": "51f7920c-effb-4828-a5c0-3eeca1594915",
   "metadata": {
    "colab": {
     "base_uri": "https://localhost:8080/",
     "height": 375
    },
    "id": "51f7920c-effb-4828-a5c0-3eeca1594915",
    "outputId": "de04e6c3-4e7c-4b91-9483-820b6649a253"
   },
   "outputs": [
    {
     "data": {
      "text/plain": [
       "Text(0.5, 1.0, 'Null values Heatmap')"
      ]
     },
     "execution_count": 28,
     "metadata": {},
     "output_type": "execute_result"
    },
    {
     "data": {
      "image/png": "[encoded data removed]",
      "text/plain": [
       "<Figure size 432x288 with 2 Axes>"
      ]
     },
     "metadata": {
      "needs_background": "light"
     },
     "output_type": "display_data"
    }
   ],
   "source": [
    "_=sns.heatmap(df.isna(),cbar=True,cmap=\"BuPu\")\n",
    "plt.title('Null values Heatmap',size='xx-large')"
   ]
  },
  {
   "cell_type": "code",
   "execution_count": null,
   "id": "ac535dd9-4516-485a-9e1c-72d96f533854",
   "metadata": {
    "colab": {
     "base_uri": "https://localhost:8080/",
     "height": 285
    },
    "id": "ac535dd9-4516-485a-9e1c-72d96f533854",
    "outputId": "7cb867b8-382a-4bfe-e8ae-18499e3b6018"
   },
   "outputs": [
    {
     "data": {
      "text/plain": [
       "Text(0.5, 1.0, 'Pie plot of Sentiment column')"
      ]
     },
     "execution_count": 29,
     "metadata": {},
     "output_type": "execute_result"
    },
    {
     "data": {
      "image/png": "[encoded data removed]",
      "text/plain": [
       "<Figure size 720x288 with 1 Axes>"
      ]
     },
     "metadata": {},
     "output_type": "display_data"
    }
   ],
   "source": [
    "plt.figure(figsize=(10,4))\n",
    "df['Sentiment'].value_counts().plot.pie()\n",
    "plt.title('Pie plot of Sentiment column',size='xx-large')"
   ]
  },
  {
   "cell_type": "code",
   "execution_count": null,
   "id": "4bc7fc43-91f9-4134-9e6a-0604585d7d99",
   "metadata": {
    "colab": {
     "base_uri": "https://localhost:8080/",
     "height": 281
    },
    "id": "4bc7fc43-91f9-4134-9e6a-0604585d7d99",
    "outputId": "d6e69bbe-cc30-49c6-e243-47b44a68dfbb"
   },
   "outputs": [
    {
     "data": {
      "text/plain": [
       "Text(0.5, 1.0, 'Pie plot of User_Verified column')"
      ]
     },
     "execution_count": 30,
     "metadata": {},
     "output_type": "execute_result"
    },
    {
     "data": {
      "image/png": "[encoded data removed]",
      "text/plain": [
       "<Figure size 720x288 with 1 Axes>"
      ]
     },
     "metadata": {},
     "output_type": "display_data"
    }
   ],
   "source": [
    "plt.figure(figsize=(10,4))\n",
    "plt.style.use('classic')\n",
    "df['user_verified'].value_counts().plot.pie()\n",
    "plt.title('Pie plot of User_Verified column')"
   ]
  },
  {
   "cell_type": "code",
   "execution_count": null,
   "id": "dcf2b4d4-012b-4da9-8598-afd8c0706424",
   "metadata": {
    "colab": {
     "base_uri": "https://localhost:8080/",
     "height": 1000
    },
    "id": "dcf2b4d4-012b-4da9-8598-afd8c0706424",
    "outputId": "b91f8fb5-b453-4fb6-994e-9adfbb09e53d"
   },
   "outputs": [
    {
     "name": "stdout",
     "output_type": "stream",
     "text": [
      "\n",
      "\n"
     ]
    },
    {
     "data": {
      "image/png": "[encoded data removed]",
      "text/plain": [
       "<Figure size 640x320 with 1 Axes>"
      ]
     },
     "metadata": {},
     "output_type": "display_data"
    },
    {
     "name": "stdout",
     "output_type": "stream",
     "text": [
      "\n",
      "\n",
      "\n",
      "\n"
     ]
    },
    {
     "data": {
      "image/png": "[encoded data removed]",
      "text/plain": [
       "<Figure size 640x320 with 1 Axes>"
      ]
     },
     "metadata": {},
     "output_type": "display_data"
    },
    {
     "name": "stdout",
     "output_type": "stream",
     "text": [
      "\n",
      "\n",
      "\n",
      "\n"
     ]
    },
    {
     "data": {
      "image/png": "[encoded data removed]",
      "text/plain": [
       "<Figure size 640x320 with 1 Axes>"
      ]
     },
     "metadata": {},
     "output_type": "display_data"
    },
    {
     "name": "stdout",
     "output_type": "stream",
     "text": [
      "\n",
      "\n",
      "\n",
      "\n"
     ]
    },
    {
     "data": {
      "image/png": "[encoded data removed]",
      "text/plain": [
       "<Figure size 640x320 with 1 Axes>"
      ]
     },
     "metadata": {},
     "output_type": "display_data"
    },
    {
     "name": "stdout",
     "output_type": "stream",
     "text": [
      "\n",
      "\n"
     ]
    }
   ],
   "source": [
    "cols=['hashtags','source','user_name', 'user_location']\n",
    "for i in cols:\n",
    "    plt.figure(figsize=(8,4))\n",
    "    plt.style.use('classic')\n",
    "    print('\\n')\n",
    "    df[i].value_counts()[:10].plot.bar()\n",
    "    plt.xlabel(i)\n",
    "    plt.ylabel(None)\n",
    "    plt.title('Bar Plot of Top 10 ' + i,size='xx-large')\n",
    "    plt.show()\n",
    "    print('\\n')"
   ]
  },
  {
   "cell_type": "code",
   "execution_count": null,
   "id": "a7300ed8-9a1d-4279-83b2-a32e61dbb198",
   "metadata": {
    "colab": {
     "base_uri": "https://localhost:8080/",
     "height": 1000
    },
    "id": "a7300ed8-9a1d-4279-83b2-a32e61dbb198",
    "outputId": "155d9bcb-f6de-46c0-de7e-310337e2e809"
   },
   "outputs": [
    {
     "name": "stdout",
     "output_type": "stream",
     "text": [
      "\n",
      "\n"
     ]
    },
    {
     "data": {
      "image/png": "[encoded data removed]",
      "text/plain": [
       "<Figure size 560x320 with 1 Axes>"
      ]
     },
     "metadata": {},
     "output_type": "display_data"
    },
    {
     "name": "stdout",
     "output_type": "stream",
     "text": [
      "\n",
      "\n",
      "\n",
      "\n"
     ]
    },
    {
     "data": {
      "image/png": "[encoded data removed]",
      "text/plain": [
       "<Figure size 560x320 with 1 Axes>"
      ]
     },
     "metadata": {},
     "output_type": "display_data"
    },
    {
     "name": "stdout",
     "output_type": "stream",
     "text": [
      "\n",
      "\n",
      "\n",
      "\n"
     ]
    },
    {
     "data": {
      "image/png": "[encoded data removed]",
      "text/plain": [
       "<Figure size 560x320 with 1 Axes>"
      ]
     },
     "metadata": {},
     "output_type": "display_data"
    },
    {
     "name": "stdout",
     "output_type": "stream",
     "text": [
      "\n",
      "\n"
     ]
    }
   ],
   "source": [
    "cat_cols=['user_verified','Sentiment','is_retweet']\n",
    "for i in cat_cols:\n",
    "    plt.figure(figsize=(7,4))\n",
    "    print('\\n')\n",
    "    sns.countplot(df[i],palette='Set3')\n",
    "    plt.xlabel(i)\n",
    "    plt.ylabel(None)\n",
    "    plt.title('Count Plot of ' + i,size='xx-large')\n",
    "    plt.show()\n",
    "    print('\\n')"
   ]
  },
  {
   "cell_type": "code",
   "execution_count": null,
   "id": "61d7c5df-0f0c-44f6-91ea-d152f1e5a9e8",
   "metadata": {
    "colab": {
     "base_uri": "https://localhost:8080/",
     "height": 1000
    },
    "id": "61d7c5df-0f0c-44f6-91ea-d152f1e5a9e8",
    "outputId": "e9af5f13-f122-4214-9165-ab3748b5e4bc"
   },
   "outputs": [
    {
     "name": "stdout",
     "output_type": "stream",
     "text": [
      "\n",
      "\n"
     ]
    },
    {
     "data": {
      "image/png": "[encoded data removed]",
      "text/plain": [
       "<Figure size 800x320 with 1 Axes>"
      ]
     },
     "metadata": {},
     "output_type": "display_data"
    },
    {
     "name": "stdout",
     "output_type": "stream",
     "text": [
      "\n",
      "\n",
      "\n",
      "\n"
     ]
    },
    {
     "data": {
      "image/png": "[encoded data removed]",
      "text/plain": [
       "<Figure size 800x320 with 1 Axes>"
      ]
     },
     "metadata": {},
     "output_type": "display_data"
    },
    {
     "name": "stdout",
     "output_type": "stream",
     "text": [
      "\n",
      "\n",
      "\n",
      "\n"
     ]
    },
    {
     "data": {
      "image/png": "[encoded data removed]",
      "text/plain": [
       "<Figure size 800x320 with 1 Axes>"
      ]
     },
     "metadata": {},
     "output_type": "display_data"
    },
    {
     "name": "stdout",
     "output_type": "stream",
     "text": [
      "\n",
      "\n",
      "\n",
      "\n"
     ]
    },
    {
     "data": {
      "image/png": "[encoded data removed]",
      "text/plain": [
       "<Figure size 800x320 with 1 Axes>"
      ]
     },
     "metadata": {},
     "output_type": "display_data"
    },
    {
     "name": "stdout",
     "output_type": "stream",
     "text": [
      "\n",
      "\n",
      "\n",
      "\n"
     ]
    },
    {
     "data": {
      "image/png": "[encoded data removed]",
      "text/plain": [
       "<Figure size 800x320 with 1 Axes>"
      ]
     },
     "metadata": {},
     "output_type": "display_data"
    },
    {
     "name": "stdout",
     "output_type": "stream",
     "text": [
      "\n",
      "\n",
      "\n",
      "\n"
     ]
    },
    {
     "data": {
      "image/png": "[encoded data removed]",
      "text/plain": [
       "<Figure size 800x320 with 1 Axes>"
      ]
     },
     "metadata": {},
     "output_type": "display_data"
    },
    {
     "name": "stdout",
     "output_type": "stream",
     "text": [
      "\n",
      "\n"
     ]
    }
   ],
   "source": [
    "num_col=['id','user_followers','user_friends','user_favourites','retweets','favorites']\n",
    "for i in num_col:\n",
    "    print('\\n')\n",
    "    plt.figure(figsize=(10,4))\n",
    "    plt.style.use('classic')\n",
    "    sns.distplot(df[i],hist=False,kde=True,bins=120)\n",
    "    plt.xlabel(i)\n",
    "    plt.ylabel(None)\n",
    "    plt.title('Distribution Plot of ' + i,size='xx-large')\n",
    "    plt.show()\n",
    "    print('\\n')"
   ]
  },
  {
   "cell_type": "code",
   "execution_count": null,
   "id": "fd158a2b-3253-4075-acf4-9bcc6ac17ac7",
   "metadata": {
    "colab": {
     "base_uri": "https://localhost:8080/",
     "height": 540
    },
    "id": "fd158a2b-3253-4075-acf4-9bcc6ac17ac7",
    "outputId": "1aab29d7-2523-44c8-f907-f71fd8d43b72"
   },
   "outputs": [
    {
     "data": {
      "image/png": "[encoded data removed]",
      "text/plain": [
       "<Figure size 800x560 with 1 Axes>"
      ]
     },
     "metadata": {},
     "output_type": "display_data"
    }
   ],
   "source": [
    "df['date']=pd.to_datetime(df['date'])\n",
    "tweets_per_hr=df['date'].dt.strftime('%H').value_counts().sort_index().to_frame(name='Count')\n",
    "tweets_per_hr['Hour']=tweets_per_hr.index\n",
    "plt.figure(figsize=(10,7))\n",
    "sns.barplot(x='Hour',y='Count',data=tweets_per_hr,palette='Set3')\n",
    "plt.title('Tweets per hour',size='xx-large')\n",
    "plt.show()"
   ]
  },
  {
   "cell_type": "markdown",
   "id": "a948d623-d03e-4291-97b3-96b8a8013bba",
   "metadata": {
    "id": "a948d623-d03e-4291-97b3-96b8a8013bba",
    "tags": []
   },
   "source": [
    "# Handeling Missing Data"
   ]
  },
  {
   "cell_type": "code",
   "execution_count": null,
   "id": "d37e33ff-8c42-44fc-8ac2-50aee3bec088",
   "metadata": {
    "id": "d37e33ff-8c42-44fc-8ac2-50aee3bec088"
   },
   "outputs": [],
   "source": [
    "# Fill with most frequent value\n",
    "\n",
    "df['user_location'].fillna('Los Angeles, CA',inplace =True)\n",
    "df['user_description'].fillna('Global Venture Captial and Private Equity/Business Development Professional',inplace =True)\n",
    "df['hashtags'].fillna(\"['Omicron']\",inplace =True)"
   ]
  },
  {
   "cell_type": "code",
   "execution_count": null,
   "id": "5a98103b-171f-40fc-9c4a-ded6457251bb",
   "metadata": {
    "id": "5a98103b-171f-40fc-9c4a-ded6457251bb"
   },
   "outputs": [],
   "source": [
    "df.dropna(inplace = True)"
   ]
  },
  {
   "cell_type": "code",
   "execution_count": null,
   "id": "3d010fab-6bc0-4d08-b74b-d21088c4c64d",
   "metadata": {
    "colab": {
     "base_uri": "https://localhost:8080/"
    },
    "id": "3d010fab-6bc0-4d08-b74b-d21088c4c64d",
    "outputId": "2c6c7a87-38c9-46d6-d3b1-8721cb0f314a"
   },
   "outputs": [
    {
     "data": {
      "text/plain": [
       "id                  0.0\n",
       "user_name           0.0\n",
       "user_location       0.0\n",
       "user_description    0.0\n",
       "user_created        0.0\n",
       "user_followers      0.0\n",
       "user_friends        0.0\n",
       "user_favourites     0.0\n",
       "user_verified       0.0\n",
       "date                0.0\n",
       "text                0.0\n",
       "hashtags            0.0\n",
       "source              0.0\n",
       "retweets            0.0\n",
       "favorites           0.0\n",
       "is_retweet          0.0\n",
       "Sentiment           0.0\n",
       "dtype: float64"
      ]
     },
     "execution_count": 37,
     "metadata": {},
     "output_type": "execute_result"
    }
   ],
   "source": [
    "df.isnull().mean()*100"
   ]
  },
  {
   "cell_type": "markdown",
   "id": "499b08ed-c759-4a2f-8511-068aae65aefe",
   "metadata": {
    "id": "499b08ed-c759-4a2f-8511-068aae65aefe",
    "tags": []
   },
   "source": [
    "# Dropping Unwanted Columns"
   ]
  },
  {
   "cell_type": "code",
   "execution_count": null,
   "id": "247a0c53-1198-478d-8b5c-d4a0bb3d4a9c",
   "metadata": {
    "colab": {
     "base_uri": "https://localhost:8080/"
    },
    "id": "247a0c53-1198-478d-8b5c-d4a0bb3d4a9c",
    "outputId": "ad1704ab-c531-49da-e29e-861b015f9bbb"
   },
   "outputs": [
    {
     "data": {
      "text/plain": [
       "Index(['id', 'user_name', 'user_location', 'user_description', 'user_created',\n",
       "       'user_followers', 'user_friends', 'user_favourites', 'user_verified',\n",
       "       'date', 'text', 'hashtags', 'source', 'retweets', 'favorites',\n",
       "       'is_retweet', 'Sentiment'],\n",
       "      dtype='object')"
      ]
     },
     "execution_count": 38,
     "metadata": {},
     "output_type": "execute_result"
    }
   ],
   "source": [
    "df.columns"
   ]
  },
  {
   "cell_type": "code",
   "execution_count": null,
   "id": "d81ea6b1-935e-497d-a2c7-35323d312481",
   "metadata": {
    "id": "d81ea6b1-935e-497d-a2c7-35323d312481"
   },
   "outputs": [],
   "source": [
    "df.drop(['id', 'user_name', 'user_location', 'user_description', 'user_created',\n",
    "       'user_followers', 'user_friends', 'user_favourites', 'user_verified','date','hashtags', 'source', 'retweets', 'favorites',\n",
    "       'is_retweet'],axis=1,inplace=True)"
   ]
  },
  {
   "cell_type": "code",
   "execution_count": null,
   "id": "34457ee6-5b7c-4816-bd6c-4de87c126403",
   "metadata": {
    "colab": {
     "base_uri": "https://localhost:8080/"
    },
    "id": "34457ee6-5b7c-4816-bd6c-4de87c126403",
    "outputId": "d494ea15-2a9d-466f-fc1c-553cdfe9bdbe"
   },
   "outputs": [
    {
     "data": {
      "text/plain": [
       "Index(['text', 'Sentiment'], dtype='object')"
      ]
     },
     "execution_count": 40,
     "metadata": {},
     "output_type": "execute_result"
    }
   ],
   "source": [
    "df.columns"
   ]
  },
  {
   "cell_type": "markdown",
   "id": "04e4ace1-077f-48b7-bb47-937862cb45b5",
   "metadata": {
    "id": "04e4ace1-077f-48b7-bb47-937862cb45b5",
    "jp-MarkdownHeadingCollapsed": true,
    "tags": []
   },
   "source": [
    "# Sentiment Predicting Models(NLP)"
   ]
  },
  {
   "cell_type": "markdown",
   "id": "dd41e44e-7099-4ddc-b367-ac9b2d50024a",
   "metadata": {
    "id": "dd41e44e-7099-4ddc-b367-ac9b2d50024a",
    "tags": []
   },
   "source": [
    "# Pre-Processing Steps"
   ]
  },
  {
   "cell_type": "code",
   "execution_count": null,
   "id": "9ad4dffc-297c-4856-a672-97fad2cf0814",
   "metadata": {
    "id": "9ad4dffc-297c-4856-a672-97fad2cf0814"
   },
   "outputs": [],
   "source": [
    "wd=WordNetLemmatizer()\n",
    "corpus=[]\n",
    "for i in range(len(df)):\n",
    "    text=re.sub('[^a-zA-Z]',' ',df['text'][i])\n",
    "    text=re.sub(\"\\s\\s+\", \" \", df['text'][i])\n",
    "    text = re.sub('https?://\\S+|www\\.\\S+', ' ',df['text'][i])\n",
    "    text = re.sub('#(?!(?:hashtag)\\b)[\\w-]+(?=(?:\\s+#[\\w-]+)*\\s*$)', '',df['text'][i])\n",
    "    text = re.sub('@[\\w]+', '',df['text'][i])\n",
    "    df['text']=df['text'].str.replace('READ MORE','')\n",
    "    df['text']=df['text'].str.replace('https://t.co/','')\n",
    "    text=text.lower()\n",
    "    text=text.split()\n",
    "    text=[wd.lemmatize(word) for word in text if not word in sw.words('english')]\n",
    "    text=' '.join(text)\n",
    "    corpus.append(text)"
   ]
  },
  {
   "cell_type": "markdown",
   "id": "4dd4fb3f-de04-4398-8547-7a3ed1461e35",
   "metadata": {
    "id": "4dd4fb3f-de04-4398-8547-7a3ed1461e35",
    "tags": []
   },
   "source": [
    "# Count Vectorizer"
   ]
  },
  {
   "cell_type": "code",
   "execution_count": null,
   "id": "03f6f669-09fa-4ee1-9120-ee3497ada068",
   "metadata": {
    "id": "03f6f669-09fa-4ee1-9120-ee3497ada068"
   },
   "outputs": [],
   "source": [
    "cv=CountVectorizer()\n",
    "x=cv.fit_transform(corpus).toarray()"
   ]
  },
  {
   "cell_type": "code",
   "execution_count": null,
   "id": "45d775f5-2d6e-488f-8262-7dd27671cab6",
   "metadata": {
    "colab": {
     "base_uri": "https://localhost:8080/"
    },
    "id": "45d775f5-2d6e-488f-8262-7dd27671cab6",
    "outputId": "d300b716-f3e4-4210-ae0b-1f4b7c1e6309"
   },
   "outputs": [
    {
     "data": {
      "text/plain": [
       "(10000, 21849)"
      ]
     },
     "execution_count": 49,
     "metadata": {},
     "output_type": "execute_result"
    }
   ],
   "source": [
    "x.shape"
   ]
  },
  {
   "cell_type": "code",
   "execution_count": null,
   "id": "77d12e10-1ebc-4d80-8ff4-079336119654",
   "metadata": {
    "id": "77d12e10-1ebc-4d80-8ff4-079336119654"
   },
   "outputs": [],
   "source": [
    "y=df['Sentiment'].iloc[:].values"
   ]
  },
  {
   "cell_type": "code",
   "execution_count": null,
   "id": "7eb1aae1-4f56-4321-9d4d-d180cf9b6809",
   "metadata": {
    "colab": {
     "base_uri": "https://localhost:8080/"
    },
    "id": "7eb1aae1-4f56-4321-9d4d-d180cf9b6809",
    "outputId": "15a7cfcc-f079-45e5-dded-1896d676033a"
   },
   "outputs": [
    {
     "data": {
      "text/plain": [
       "(10000,)"
      ]
     },
     "execution_count": 51,
     "metadata": {},
     "output_type": "execute_result"
    }
   ],
   "source": [
    "y.shape"
   ]
  },
  {
   "cell_type": "markdown",
   "id": "77aaeb7d-dbc1-43aa-9af3-0e5e1f3d938f",
   "metadata": {
    "id": "77aaeb7d-dbc1-43aa-9af3-0e5e1f3d938f",
    "tags": []
   },
   "source": [
    "# Train-Test Split"
   ]
  },
  {
   "cell_type": "code",
   "execution_count": null,
   "id": "aa971fed-c226-4fc7-80a3-126c343d3f06",
   "metadata": {
    "id": "aa971fed-c226-4fc7-80a3-126c343d3f06"
   },
   "outputs": [],
   "source": [
    "from sklearn.model_selection import train_test_split\n",
    "x_train,x_test,y_train,y_test=train_test_split(x,y,test_size=0.2,random_state=42)"
   ]
  },
  {
   "cell_type": "code",
   "execution_count": null,
   "id": "8391df23-55b3-4572-ab1a-fe337e4e7032",
   "metadata": {
    "colab": {
     "base_uri": "https://localhost:8080/"
    },
    "id": "8391df23-55b3-4572-ab1a-fe337e4e7032",
    "outputId": "293cdd05-209a-493c-8c88-0d68bf99ad92"
   },
   "outputs": [
    {
     "name": "stdout",
     "output_type": "stream",
     "text": [
      "(8000, 21849)\n",
      "(8000,)\n",
      "#####################\n",
      "(2000, 21849)\n",
      "(2000,)\n"
     ]
    }
   ],
   "source": [
    "print(x_train.shape)\n",
    "print(y_train.shape)\n",
    "print('#####################')\n",
    "print(x_test.shape)\n",
    "print(y_test.shape)"
   ]
  },
  {
   "cell_type": "markdown",
   "id": "98ed6de4-2342-491d-b3fc-8ceb5d6452ea",
   "metadata": {
    "id": "98ed6de4-2342-491d-b3fc-8ceb5d6452ea"
   },
   "source": [
    "# Multinomial Naive Bayes"
   ]
  },
  {
   "cell_type": "code",
   "execution_count": null,
   "id": "68935722-13e8-4050-b439-9b72ec6bc18d",
   "metadata": {
    "colab": {
     "base_uri": "https://localhost:8080/"
    },
    "id": "68935722-13e8-4050-b439-9b72ec6bc18d",
    "outputId": "ae208e3d-20db-4ae7-fd79-4c5567b9fb16"
   },
   "outputs": [
    {
     "data": {
      "text/plain": [
       "MultinomialNB()"
      ]
     },
     "execution_count": 54,
     "metadata": {},
     "output_type": "execute_result"
    }
   ],
   "source": [
    "# Model Building\n",
    "\n",
    "model_mnb=MultinomialNB()\n",
    "model_mnb.fit(x_train,y_train)"
   ]
  },
  {
   "cell_type": "code",
   "execution_count": null,
   "id": "5ceb27e8-eca5-4238-8987-aa8c986cf668",
   "metadata": {
    "id": "5ceb27e8-eca5-4238-8987-aa8c986cf668"
   },
   "outputs": [],
   "source": [
    "# Predicting Result\n",
    "\n",
    "y_prdm= model_mnb.predict(x_test)"
   ]
  },
  {
   "cell_type": "code",
   "execution_count": null,
   "id": "2aea4efb-4afc-41c6-9908-a83fc2829d17",
   "metadata": {
    "colab": {
     "base_uri": "https://localhost:8080/"
    },
    "id": "2aea4efb-4afc-41c6-9908-a83fc2829d17",
    "outputId": "4678e31c-ce53-40d1-da2c-b89a4e2e8947"
   },
   "outputs": [
    {
     "name": "stdout",
     "output_type": "stream",
     "text": [
      "Testing accuracy 0.7635\n"
     ]
    }
   ],
   "source": [
    "# Accuracy Score checking\n",
    "\n",
    "accuracy_test = accuracy_score(y_test, y_prdm)\n",
    "print('Testing accuracy',accuracy_test)"
   ]
  },
  {
   "cell_type": "code",
   "execution_count": null,
   "id": "8776ae8a-d7fc-4c48-93c8-8f7f4d142c03",
   "metadata": {
    "colab": {
     "base_uri": "https://localhost:8080/"
    },
    "id": "8776ae8a-d7fc-4c48-93c8-8f7f4d142c03",
    "outputId": "fc61a37b-0ea3-4c72-91af-0bc840d0a094"
   },
   "outputs": [
    {
     "name": "stdout",
     "output_type": "stream",
     "text": [
      "Training Score: 93.425\n",
      "Testing Score : 76.35\n"
     ]
    }
   ],
   "source": [
    "print('Training Score:',100*model_mnb.score(x_train,y_train))\n",
    "print('Testing Score :',100*model_mnb.score(x_test,y_test))"
   ]
  },
  {
   "cell_type": "code",
   "execution_count": null,
   "id": "c2954600-07e0-4666-b556-edcf8a230558",
   "metadata": {
    "colab": {
     "base_uri": "https://localhost:8080/"
    },
    "id": "c2954600-07e0-4666-b556-edcf8a230558",
    "outputId": "5f403d20-3c2d-41f0-ee82-1d1b72ac6bc1"
   },
   "outputs": [
    {
     "name": "stdout",
     "output_type": "stream",
     "text": [
      "Confusion Matrix:\n",
      " [[ 307  286]\n",
      " [ 187 1220]]\n",
      "_________________________\n",
      "Classification Report:\n",
      "               precision    recall  f1-score   support\n",
      "\n",
      "    Negative       0.62      0.52      0.56       593\n",
      "    Positive       0.81      0.87      0.84      1407\n",
      "\n",
      "    accuracy                           0.76      2000\n",
      "   macro avg       0.72      0.69      0.70      2000\n",
      "weighted avg       0.75      0.76      0.76      2000\n",
      "\n"
     ]
    }
   ],
   "source": [
    "# Confusion matrix and Classification report\n",
    "\n",
    "print('Confusion Matrix:\\n ' + str(confusion_matrix(y_prdm,y_test)))\n",
    "print('_________________________')\n",
    "print('Classification Report:\\n ' + str(classification_report(y_prdm,y_test)))"
   ]
  },
  {
   "cell_type": "markdown",
   "id": "84e4f9b6-ce2e-44c9-b16b-67ddee3b9c01",
   "metadata": {
    "id": "84e4f9b6-ce2e-44c9-b16b-67ddee3b9c01"
   },
   "source": [
    "# Gaussian Naive Bayes"
   ]
  },
  {
   "cell_type": "code",
   "execution_count": null,
   "id": "9624b79e-2d96-4834-892a-ff42768ee5ba",
   "metadata": {
    "colab": {
     "base_uri": "https://localhost:8080/"
    },
    "id": "9624b79e-2d96-4834-892a-ff42768ee5ba",
    "outputId": "8d9c9282-be1a-481e-c9fa-65981634eb76"
   },
   "outputs": [
    {
     "data": {
      "text/plain": [
       "GaussianNB()"
      ]
     },
     "execution_count": 59,
     "metadata": {},
     "output_type": "execute_result"
    }
   ],
   "source": [
    "# Model Building\n",
    "\n",
    "model_gnb=GaussianNB()\n",
    "model_gnb.fit(x_train,y_train)"
   ]
  },
  {
   "cell_type": "code",
   "execution_count": null,
   "id": "864ed306-a697-4ca5-83d1-3e98dd2f04a8",
   "metadata": {
    "id": "864ed306-a697-4ca5-83d1-3e98dd2f04a8"
   },
   "outputs": [],
   "source": [
    "# Predicting Result\n",
    "\n",
    "y_prdg = model_gnb.predict(x_test)"
   ]
  },
  {
   "cell_type": "code",
   "execution_count": null,
   "id": "370e2560-3d73-4536-901a-f4c0f32344c8",
   "metadata": {
    "colab": {
     "base_uri": "https://localhost:8080/"
    },
    "id": "370e2560-3d73-4536-901a-f4c0f32344c8",
    "outputId": "9b06c3fb-350e-43b2-c293-e1701bcf84dd"
   },
   "outputs": [
    {
     "name": "stdout",
     "output_type": "stream",
     "text": [
      "Training Score: 99.55000000000001\n",
      "Testing Score : 53.7\n"
     ]
    }
   ],
   "source": [
    "# Score checking\n",
    "\n",
    "print('Training Score:',100*model_gnb.score(x_train,y_train))\n",
    "print('Testing Score :',100*model_gnb.score(x_test,y_test))"
   ]
  },
  {
   "cell_type": "code",
   "execution_count": null,
   "id": "e4cceafd-a658-4870-8140-2bd52ff08c00",
   "metadata": {
    "colab": {
     "base_uri": "https://localhost:8080/"
    },
    "id": "e4cceafd-a658-4870-8140-2bd52ff08c00",
    "outputId": "56e01499-dd1d-4953-db0d-9b070601282f"
   },
   "outputs": [
    {
     "name": "stdout",
     "output_type": "stream",
     "text": [
      "Testing accuracy 0.537\n"
     ]
    }
   ],
   "source": [
    "accuracy_test = accuracy_score(y_test, y_prdg)\n",
    "print('Testing accuracy',accuracy_test)"
   ]
  },
  {
   "cell_type": "code",
   "execution_count": null,
   "id": "066a979d-4d1d-4691-8aeb-6d5880fb258f",
   "metadata": {
    "colab": {
     "base_uri": "https://localhost:8080/"
    },
    "id": "066a979d-4d1d-4691-8aeb-6d5880fb258f",
    "outputId": "ba9b7f8c-5aa4-4efd-9818-706b56bfee0f"
   },
   "outputs": [
    {
     "name": "stdout",
     "output_type": "stream",
     "text": [
      "Confusion Matrix:\n",
      " [[340 772]\n",
      " [154 734]]\n",
      "_________________________\n",
      "Classification Report:\n",
      "               precision    recall  f1-score   support\n",
      "\n",
      "    Negative       0.69      0.31      0.42      1112\n",
      "    Positive       0.49      0.83      0.61       888\n",
      "\n",
      "    accuracy                           0.54      2000\n",
      "   macro avg       0.59      0.57      0.52      2000\n",
      "weighted avg       0.60      0.54      0.51      2000\n",
      "\n"
     ]
    }
   ],
   "source": [
    "# Confusion matrix and Classification report\n",
    "\n",
    "print('Confusion Matrix:\\n ' + str(confusion_matrix(y_prdg,y_test)))\n",
    "print('_________________________')\n",
    "print('Classification Report:\\n ' + str(classification_report(y_prdg,y_test)))"
   ]
  }
 ],
 "metadata": {
  "colab": {
   "collapsed_sections": [
    "04e4ace1-077f-48b7-bb47-937862cb45b5"
   ],
   "provenance": []
  },
  "kernelspec": {
   "display_name": "Python 3 (ipykernel)",
   "language": "python",
   "name": "python3"
  },
  "language_info": {
   "codemirror_mode": {
    "name": "ipython",
    "version": 3
   },
   "file_extension": ".py",
   "mimetype": "text/x-python",
   "name": "python",
   "nbconvert_exporter": "python",
   "pygments_lexer": "ipython3",
   "version": "3.9.12"
  }
 },
 "nbformat": 4,
 "nbformat_minor": 5
}
